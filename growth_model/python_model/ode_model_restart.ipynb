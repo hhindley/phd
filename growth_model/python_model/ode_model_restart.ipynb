{
 "cells": [
  {
   "cell_type": "code",
   "execution_count": 1,
   "metadata": {},
   "outputs": [],
   "source": [
    "from scipy.integrate import odeint\n",
    "import numpy as np\n",
    "import matplotlib.pyplot as plt\n",
    "from scipy.integrate import ode\n",
    "from scipy.integrate import solve_ivp"
   ]
  },
  {
   "cell_type": "code",
   "execution_count": 2,
   "metadata": {},
   "outputs": [],
   "source": [
    "# my equations and order \n",
    "def model(t, y, params):\n",
    "    \n",
    "    # params\n",
    "    b, dm, kb, ku, f, thetar, k_cm, s0, gmax, cl, thetax, Kt, M, we, Km, vm, nx, Kq, Kp, vt, wr, wq, wp, nq, nr, ns = params\n",
    "    \n",
    "    # lhs\n",
    "    r, et, em, q, si, a, mr, mt, mm, mq, cr, ct, cm, cq, p, mp, cp = y\n",
    "    \n",
    "    # equations\n",
    "    Kgamma = gmax/Kp\n",
    "    gamma = (gmax*a)/(Kgamma+a)\n",
    "    ttrate = (cr + ct + cm + cq + cp)*gamma\n",
    "    lam = ttrate/M\n",
    "    vimp = (et*vt*s0)/(Kt+s0)\n",
    "    nucat = (em*vm*si)/(Km+si)\n",
    "\n",
    "    # rhs\n",
    "    dydt = np.zeros(17)\n",
    "    # first reaction - dilution\n",
    "    # dydt[0] = dydt[0] - (lam*r)\n",
    "    # dydt[1] = dydt[1] - (lam*et)\n",
    "    # dydt[2] = dydt[2] - (lam*em)\n",
    "    # dydt[3] = dydt[3] - (lam*q)\n",
    "    # dydt[4] = dydt[4] - (lam*si)\n",
    "    # dydt[5] = dydt[5] - (lam*a)\n",
    "    # dydt[14] = dydt[14] - (lam*p)\n",
    "\n",
    "    # # second reaction - transcription \n",
    "    # dydt[6] = dydt[6] + (wr*a)/(thetar+a)\n",
    "    # dydt[7] = dydt[7] + (wt*a)/(thetax+a)\n",
    "    # dydt[8] = dydt[8] + (wm*a)/(thetax+a)\n",
    "    # dydt[9] = dydt[9] + ((wq*a)/(thetax+a))/(1+((q/Kq)**hq))\n",
    "    # dydt[4] = dydt[4] - (s0*vimp) # not sure s0 is needed because it is included in the vimp equation \n",
    "    # dydt[15] = dydt[15] + (wp*a)/(thetax+a)\n",
    "\n",
    "    # # third reaction - dilution/degradation\n",
    "    # dydt[6] = dydt[6] - mr*(lam+dm)\n",
    "    # dydt[7] = dydt[7] - mt*(lam+dm)\n",
    "    # dydt[8] = dydt[8] - mm*(lam+dm)\n",
    "    # dydt[9] = dydt[9] - mq*(lam+dm)\n",
    "    # dydt[4] = dydt[4] - (si*nucat) # not sure si is needed because it is included in the nucat equation\n",
    "    # dydt[15] = dydt[15] - mp*(lam+dm)\n",
    "\n",
    "    # # fourth reaction - ribosome binding \n",
    "    # dydt[0] = dydt[0] - (r*mr*kb) - (r*mt*kb) - (r*mm*kb) - (r*mq*kb) - (r*mp*kb)\n",
    "    # dydt[6] = dydt[6] - (r*mr*kb)\n",
    "    # dydt[7] = dydt[7] - (r*mt*kb)\n",
    "    # dydt[8] = dydt[8] - (r*mm*kb)\n",
    "    # dydt[9] = dydt[9] - (r*mq*kb)\n",
    "    # dydt[10] = dydt[10] + (r*mr*kb)\n",
    "    # dydt[11] = dydt[11] + (r*mt*kb)\n",
    "    # dydt[12] = dydt[12] + (r*mm*kb)\n",
    "    # dydt[13] = dydt[13] + (r*mq*kb)\n",
    "    # dydt[15] = dydt[15] - (r*mp*kb)\n",
    "    # dydt[16] = dydt[16] + (r*mp*kb) \n",
    "\n",
    "    # # fifth reaction - ribosome unbinding \n",
    "    # dydt[0] = dydt[0] + (cr*ku) + (ct*ku) + (cm*ku) + (cq*ku) + (cp*ku)\n",
    "    # dydt[6] = dydt[6] + (cr*ku)\n",
    "    # dydt[7] = dydt[7] + (ct*ku)\n",
    "    # dydt[8] = dydt[8] + (cm*ku)\n",
    "    # dydt[9] = dydt[9] + (cq*ku)\n",
    "    # dydt[10] = dydt[10] - (cr*ku)\n",
    "    # dydt[11] = dydt[11] - (ct*ku)\n",
    "    # dydt[12] = dydt[12] - (cm*ku)\n",
    "    # dydt[13] = dydt[13] - (cq*ku)\n",
    "    # dydt[15] = dydt[15] + (cp*ku)\n",
    "    # dydt[16] = dydt[16] - (cp*ku)\n",
    "\n",
    "    # # sixth reaction - dilution \n",
    "    # dydt[10] = dydt[10] - (cr*lam)\n",
    "    # dydt[11] = dydt[11] - (ct*lam)\n",
    "    # dydt[12] = dydt[12] - (cm*lam)\n",
    "    # dydt[13] = dydt[13] - (cq*lam)\n",
    "    # dydt[16] = dydt[16] - (cp*lam)\n",
    "\n",
    "    # # seventh reaction - translation \n",
    "    # dydt[0] = dydt[0] + ((cr*gamma)/nr) + ((cr*gamma)/nr) + ((ct*gamma)/nt) + ((cm*gamma)/nm) + ((cq*gamma)/nq) + ((cp*gamma)/nx)\n",
    "    # dydt[1] = dydt[1] + ((ct*gamma)/nt)\n",
    "    # dydt[2] = dydt[2] + ((cm*gamma)/nm)\n",
    "    # dydt[3] = dydt[3] + ((cq*gamma)/nq)\n",
    "    # dydt[6] = dydt[6] + ((cr*gamma)/nr)\n",
    "    # dydt[7] = dydt[7] + ((ct*gamma)/nt)\n",
    "    # dydt[8] = dydt[8] + ((cm*gamma)/nm)\n",
    "    # dydt[9] = dydt[9] + ((cq*gamma)/nq)\n",
    "    # dydt[10] = dydt[10] - ((cr*gamma)/nr)\n",
    "    # dydt[11] = dydt[11] - ((ct*gamma)/nt)\n",
    "    # dydt[12] = dydt[12] - ((cm*gamma)/nm)\n",
    "    # dydt[13] = dydt[13] - ((cq*gamma)/nq)\n",
    "    # dydt[5] = dydt[5] - ((cr*gamma)/nr) - ((ct*gamma)/nt) - ((cm*gamma)/nm) - ((cq*gamma)/nq) - ((cp*gamma)/nx)\n",
    "    # dydt[14] = dydt[14] + ((cp*gamma)/nx)\n",
    "    # dydt[15] = dydt[15] + ((cp*gamma)/nx)\n",
    "    # dydt[16] = dydt[16] - ((cp*gamma)/nx)\n",
    "\n",
    "    # overall\n",
    "    dydt[0] = - (lam*r) - (r*mr*kb) - (r*mt*kb) - (r*mm*kb) - (r*mq*kb) - (r*mp*kb) + (cr*ku) + (ct*ku) + (cm*ku) + (cq*ku) + (cp*ku) + ((cr*gamma)/nr) + ((cr*gamma)/nr) + ((ct*gamma)/nx) + ((cm*gamma)/nx) + ((cq*gamma)/nq) + ((cp*gamma)/nx)\n",
    "    dydt[1] = - (lam*et) + ((ct*gamma)/nx)\n",
    "    dydt[2] = - (lam*em) + ((cm*gamma)/nx)\n",
    "    dydt[3] = - (lam*q) + ((cq*gamma)/nx)\n",
    "    dydt[4] = - (lam*si) - (vimp) - (nucat)\n",
    "    # dydt[5] = - (lam*a) - ((cr*gamma)/nr) - ((ct*gamma)/nt) - ((cm*gamma)/nm) - ((cq*gamma)/nq) - ((cp*gamma)/nx) # this is wrong\n",
    "    dydt[5] = + (ns*nucat) - ttrate - (lam*a) # this is the right equation, where did ns come into it? - from 3rd reaction but is on the rhs so wouldn't appear in the ode?\n",
    "    dydt[6] = + (wr*a)/(thetar+a) - mr*(lam+dm)- (r*mr*kb) + (cr*ku) + ((cr*gamma)/nr)\n",
    "    dydt[7] = + (we*a)/(thetax+a) - mt*(lam+dm) - (r*mt*kb) + (ct*ku) + ((ct*gamma)/nx)\n",
    "    dydt[8] = + (we*a)/(thetax+a) - mm*(lam+dm) - (r*mm*kb) + (cm*ku) + ((cm*gamma)/nx)\n",
    "    dydt[9] = + ((wq*a)/(thetax+a))/(1+((q/Kq)**hq)) - mq*(lam+dm) - (r*mq*kb) + (cq*ku) + ((cq*gamma)/nx)\n",
    "    dydt[10] = + (r*mr*kb) - (cr*ku) - (cr*lam) - ((cr*gamma)/nr) - (f*cr)\n",
    "    dydt[11] = + (r*mt*kb) - (ct*ku) - (ct*lam) - ((ct*gamma)/nx) - (f*ct)\n",
    "    dydt[12] = + (r*mm*kb) - (cm*ku) - (cm*lam) - ((cm*gamma)/nx) - (f*cm)\n",
    "    dydt[13] = + (r*mq*kb) - (cq*ku) - (cq*lam) - ((cq*gamma)/nx) - (f*cq)\n",
    "    dydt[14] = - (lam*p) + ((cp*gamma)/nx)\n",
    "    dydt[15] = + (wp*a)/(thetax+a) - mp*(lam+dm) - (r*mp*kb) + (cp*ku) + ((cp*gamma)/nx)\n",
    "    dydt[16] = + (r*mp*kb) - (cp*ku) - (cp*lam) - ((cp*gamma)/nx) - (f*cp)\n",
    "\n",
    "    return dydt"
   ]
  },
  {
   "cell_type": "code",
   "execution_count": 43,
   "metadata": {},
   "outputs": [],
   "source": [
    "# model with my equations but matlab order \n",
    "def model1(t, y, params):\n",
    "    \n",
    "    # params\n",
    "    b, dm, kb, ku, f, thetar, k_cm, s0, gmax, cl, thetax, Kt, M, we, Km, vm, nx, Kq, Kp, vt, wr, wq, wp, hq, nr, ns = params\n",
    "    \n",
    "    # lhs\n",
    "    cr, em, cp, cq, ct, et, cm, mt, mm, q, p, si, mq, mp, mr, r, a = y\n",
    "    \n",
    "\n",
    "\n",
    "    # equations\n",
    "    Kgamma = gmax/Kp\n",
    "    gamma = (gmax*a)/(Kgamma+a)\n",
    "    ttrate = (cq + cr + cp + ct + cm)*gamma\n",
    "    lam = ttrate/M\n",
    "    vimp = (et*vt*s0)/(Kt+s0)\n",
    "    nucat = (em*vm*si)/(Km+si)\n",
    "\n",
    "    # rhs\n",
    "    dydt = np.zeros(17)\n",
    "    dydt[0] = + (r*mr*kb) - (cr*ku) - (cr*lam) - (cr*gamma)/nr - (f*cr)\n",
    "    dydt[1] = - (lam*em) + (cm*gamma)/nx\n",
    "    dydt[2] = + (r*mp*kb) - (cp*ku) - (cp*lam) - (cp*gamma)/nx - (f*cp)\n",
    "    dydt[3] = + (r*mq*kb) - (cq*ku) - (cq*lam) - (cq*gamma)/nx - (f*cq)\n",
    "    dydt[4] = + (r*mt*kb) - (ct*ku) - (ct*lam) - (ct*gamma)/nx - (f*ct)\n",
    "    dydt[5] = - (lam*et) + (ct*gamma)/nx\n",
    "    dydt[6] = + (r*mm*kb) - (cm*ku) - (cm*lam) - (cm*gamma)/nx - (f*cm)\n",
    "    dydt[7] = + (we*a/(thetax+a)) - mt*(lam+dm) - (r*mt*kb) + (ct*ku) + ((ct*gamma)/nx)\n",
    "    dydt[8] = + (we*a/(thetax+a)) - mm*(lam+dm) - (r*mm*kb) + (cm*ku) + ((cm*gamma)/nx)\n",
    "    dydt[9] = - (lam*q) + (cq*gamma)/nx\n",
    "    dydt[10] = - (lam*p) + (cp*gamma)/nx\n",
    "    dydt[11] = - (lam*si) + (vimp) - (nucat)\n",
    "    dydt[12] = + (wq*a/(thetax+a)/(1+(q/Kq)**hq)) - mq*(lam+dm) - (r*mq*kb) + (cq*ku) + (cq*gamma)/nx\n",
    "    dydt[13] = + (wp*a/(thetax+a)) - mp*(lam+dm) - (r*mp*kb) + (cp*ku) + (cp*gamma)/nx\n",
    "    dydt[14] = + (wr*a/(thetar+a)) - mr*(lam+dm)- (r*mr*kb) + (cr*ku) + (cr*gamma)/nr\n",
    "    dydt[15] = - (lam*r) - (r*mr*kb) - (r*mt*kb) - (r*mm*kb) - (r*mq*kb) - (r*mp*kb) + (cr*ku) + (ct*ku) + (cm*ku) + (cq*ku) + (cp*ku) + (cr*gamma)/nr + (cr*gamma)/nr + (ct*gamma)/nx + (cm*gamma)/nx + (cq*gamma)/nx + (cp*gamma)/nx\n",
    "    dydt[16] = + (ns*nucat) - ttrate - (lam*a) # this is the right equation, where did ns come into it? - from 3rd reaction but is on the rhs so wouldn't appear in the ode?\n",
    "\n",
    "    # dydt = np.zeros(17) \n",
    "    # dydt[0] = + (r*mr*kb) - (cr*ku) - (cr*lam) - gamma/nr*cr - (f*cr)\n",
    "    # dydt[1] = - (lam*em) + gamma/nx*cm\n",
    "    # dydt[2] = + (r*mp*kb) - (cp*ku) - (cp*lam) - gamma/nx*cp - (f*cp)\n",
    "    # dydt[3] = + (r*mq*kb) - (cq*ku) - (cq*lam) - gamma/nx*cq - (f*cq)\n",
    "    # dydt[4] = + (r*mt*kb) - (ct*ku) - (ct*lam) - gamma/nx*ct - (f*ct)\n",
    "    # dydt[5] = - (lam*et) + gamma/nx*ct\n",
    "    # dydt[6] = + (r*mm*kb) - (cm*ku) - (cm*lam) - gamma/nx*cm - (f*cm)\n",
    "    # dydt[7] = + (we*a/(thetax+a)) - mt*(lam+dm) - (r*mt*kb) + (ct*ku) + gamma/nx*ct\n",
    "    # dydt[8] = + (we*a/(thetax+a)) - mm*(lam+dm) - (r*mm*kb) + (cm*ku) + gamma/nx*cm\n",
    "    # dydt[9] = - (lam*q) + gamma/nx*cq\n",
    "    # dydt[10] = - (lam*p) + gamma/nx*cp\n",
    "    # dydt[11] = - (lam*si) + (vimp) - (nucat)\n",
    "    # dydt[12] = + (wq*a/(thetax+a)/(1+(q/Kq)**hq)) - mq*(lam+dm) - (r*mq*kb) + (cq*ku) + gamma/nx*cq\n",
    "    # dydt[13] = + (wp*a/(thetax+a)) - mp*(lam+dm) - (r*mp*kb) + (cp*ku) + gamma/nx*cp\n",
    "    # dydt[14] = + (wr*a/(thetar+a)) - mr*(lam+dm)- (r*mr*kb) + (cr*ku) + gamma/nr*cr\n",
    "    # dydt[15] = - (lam*r) - (r*mr*kb) - (r*mt*kb) - (r*mm*kb) - (r*mq*kb) - (r*mp*kb) + (cr*ku) + (ct*ku) + (cm*ku) + (cq*ku) + (cp*ku) + gamma/nr*cr + gamma/nr*cr + gamma/nx*ct + gamma/nx*cm + gamma/nx*cq + gamma/nx*cp\n",
    "    # dydt[16] = + (ns*nucat) - ttrate - (lam*a) # this is the right equation, where did ns come into it? - from 3rd reaction but is on the rhs so wouldn't appear in the ode?\n",
    "\n",
    "    return dydt"
   ]
  },
  {
   "cell_type": "code",
   "execution_count": 44,
   "metadata": {},
   "outputs": [],
   "source": [
    "# matlab equations and order \n",
    "def model2(t, y, params):\n",
    "    \n",
    "    # params\n",
    "    b, dm, kb, ku, f, thetar, k_cm, s0, gmax, cl, thetax, Kt, M, we, Km, vm, nx, Kq, Kp, vt, wr, wq, wp, nq, nr, ns = params\n",
    "    \n",
    "    # lhs\n",
    "    cr, em, cp, cq, ct, et, cm, mt, mm, q, p, si, mq, mp, mr, r, a = y\n",
    "    \n",
    "    # equations\n",
    "    Kgamma = gmax/Kp\n",
    "    gamma = (gmax*a)/(Kgamma+a)\n",
    "    ttrate = (cr + ct + cm + cq + cp)*gamma\n",
    "    lam = ttrate/M\n",
    "    vimp = (et*vt*s0)/(Kt+s0)\n",
    "    nucat = (em*vm*si)/(Km+si)\n",
    "\n",
    "    # rhs\n",
    "    dydt = np.zeros(17)\n",
    "\n",
    "    # overall\n",
    "    dydt[0] = +kb*r*mr-ku*cr-gamma/nr*cr-f*cr-lam*cr\n",
    "    dydt[1] = +gamma/nx*cm-lam*em\n",
    "    dydt[2] = +kb*r*mp-ku*cp-gamma/nx*cp-f*cp-lam*cp\n",
    "    dydt[3] = +kb*r*mq-ku*cq-gamma/nx*cq-f*cq-lam*cq\n",
    "    dydt[4] = +kb*r*mt-ku*ct-gamma/nx*ct-f*ct-lam*ct\n",
    "    dydt[5] = +gamma/nx*ct-lam*et\n",
    "    dydt[6] = +kb*r*mm-ku*cm-gamma/nx*cm-f*cm-lam*cm\n",
    "    dydt[7] = +(we*a/(thetax + a))+ku*ct+gamma/nx*ct-kb*r*mt-dm*mt-lam*mt\n",
    "    dydt[8] = +(we*a/(thetax + a))+ku*cm+gamma/nx*cm-kb*r*mm-dm*mm-lam*mm\n",
    "    dydt[9] = +gamma/nx*cq-lam*q\n",
    "    dydt[10] = +gamma/nx*cp-lam*p\n",
    "    dydt[11] = +(et*vt*s0/(Kt + s0))-nucat-lam*si\n",
    "    dydt[12] = +(wq*a/(thetax + a)/(1 + (q/Kq)**nq))+ku*cq+gamma/nx*cq-kb*r*mq-dm*mq-lam*mq\n",
    "    dydt[13] = +(wp*a/(thetax + a))+ku*cp+gamma/nx*cp-kb*r*mp-dm*mp-lam*mp\n",
    "    dydt[14] = +(wr*a/(thetar + a))+ku*cr+gamma/nr*cr-kb*r*mr-dm*mr-lam*mr\n",
    "    dydt[15] =  +ku*cr+ku*ct+ku*cm+ku*cp+ku*cq+gamma/nr*cr+gamma/nr*cr+gamma/nx*ct+gamma/nx*cm+gamma/nx*cp+gamma/nx*cq-kb*r*mr-kb*r*mt-kb*r*mm-kb*r*mp-kb*r*mq-lam*r    \n",
    "    dydt[16] =  +ns*nucat-ttrate-lam*a # this is the right equation, where did ns come into it? - from 3rd reaction but is on the rhs so wouldn't appear in the ode?\n",
    "\n",
    "    return dydt"
   ]
  },
  {
   "cell_type": "code",
   "execution_count": 45,
   "metadata": {},
   "outputs": [],
   "source": [
    "# matlab equations and my order\n",
    "def model3(t, y, params):\n",
    "    \n",
    "    # params\n",
    "    b, dm, kb, ku, f, thetar, k_cm, s0, gmax, cl, thetax, Kt, M, we, Km, vm, nx, Kq, Kp, vt, wr, wq, wp, nq, nr, ns = params\n",
    "    \n",
    "    # lhs\n",
    "    r, et, em, q, si, a, mr, mt, mm, mq, cr, ct, cm, cq, p, mp, cp = y\n",
    "    \n",
    "    # equations\n",
    "    Kgamma = gmax/Kp\n",
    "    gamma = (gmax*a)/(Kgamma+a)\n",
    "    ttrate = (cr + ct + cm + cq + cp)*gamma\n",
    "    lam = ttrate/M\n",
    "    vimp = (et*vt*s0)/(Kt+s0)\n",
    "    nucat = (em*vm*si)/(Km+si)\n",
    "\n",
    "    # rhs\n",
    "    dydt = np.zeros(17)\n",
    "\n",
    "    # overall\n",
    "    dydt[10] = +kb*r*mr-ku*cr-gamma/nr*cr-f*cr-lam*cr\n",
    "    dydt[2] = +gamma/nx*cm-lam*em\n",
    "    dydt[16] = +kb*r*mp-ku*cp-gamma/nx*cp-f*cp-lam*cp\n",
    "    dydt[13] = +kb*r*mq-ku*cq-gamma/nx*cq-f*cq-lam*cq\n",
    "    dydt[11] = +kb*r*mt-ku*ct-gamma/nx*ct-f*ct-lam*ct\n",
    "    dydt[1] = +gamma/nx*ct-lam*et\n",
    "    dydt[12] = +kb*r*mm-ku*cm-gamma/nx*cm-f*cm-lam*cm\n",
    "    dydt[7] = +(we*a/(thetax + a))+ku*ct+gamma/nx*ct-kb*r*mt-dm*mt-lam*mt\n",
    "    dydt[8] = +(we*a/(thetax + a))+ku*cm+gamma/nx*cm-kb*r*mm-dm*mm-lam*mm\n",
    "    dydt[3] = +gamma/nx*cq-lam*q\n",
    "    dydt[14] = +gamma/nx*cp-lam*p\n",
    "    dydt[4] = +(et*vt*s0/(Kt + s0))-nucat-lam*si\n",
    "    dydt[9] = +(wq*a/(thetax + a)/(1 + (q/Kq)**nq))+ku*cq+gamma/nx*cq-kb*r*mq-dm*mq-lam*mq\n",
    "    dydt[15] = +(wp*a/(thetax + a))+ku*cp+gamma/nx*cp-kb*r*mp-dm*mp-lam*mp\n",
    "    dydt[6] = +(wr*a/(thetar + a))+ku*cr+gamma/nr*cr-kb*r*mr-dm*mr-lam*mr\n",
    "    dydt[0] =  +ku*cr+ku*ct+ku*cm+ku*cp+ku*cq+gamma/nr*cr+gamma/nr*cr+gamma/nx*ct+gamma/nx*cm+gamma/nx*cp+gamma/nx*cq-kb*r*mr-kb*r*mt-kb*r*mm-kb*r*mp-kb*r*mq-lam*r    \n",
    "    dydt[5] =  +ns*nucat-ttrate-lam*a # this is the right equation, where did ns come into it? - from 3rd reaction but is on the rhs so wouldn't appear in the ode?\n",
    "\n",
    "    return dydt"
   ]
  },
  {
   "cell_type": "code",
   "execution_count": 46,
   "metadata": {},
   "outputs": [],
   "source": [
    "b= 0\n",
    "dm= 0.1\n",
    "kb= 1\n",
    "ku= 1.0\n",
    "f= 1\n",
    "thetar= 426.8693338968694\n",
    "k_cm= 0.005990373118888\n",
    "s0= 1e4\n",
    "gmax= 1260.0\n",
    "cl= 0\n",
    "thetax= 4.379733394834643\n",
    "Kt= 1.0e3\n",
    "M= 1.0e8\n",
    "we= 4.139172187824451\n",
    "Km= 1.0e3\n",
    "vm= 5800.0\n",
    "nx= 300.0\n",
    "Kq= 1.522190403737490e+05\n",
    "Kp= 180.1378030928276\n",
    "vt= 726.0\n",
    "wr= 929.9678874564831\n",
    "wq= 948.9349882947897\n",
    "wp= 0.0\n",
    "hq= 4\n",
    "nr= 7549.0\n",
    "ns= 0.5\n",
    "params= [b, dm, kb, ku, f, thetar, k_cm, s0, gmax, cl, thetax, Kt, M, we, Km, vm, nx, Kq, Kp, vt, wr, wq, wp, hq, nr, ns]"
   ]
  },
  {
   "cell_type": "markdown",
   "metadata": {},
   "source": [
    "wr = 930 # max. ribosome transcription rate \n",
    "wt = 4.14 # max. enzyme transcription rate \n",
    "wm = wt \n",
    "wq = 948.93 # max. q-transcription rate \n",
    "thetar = 426.87 # ribosome transcription threshold \n",
    "thetax = 4.38 # non-ribosomal transcription threshold \n",
    "s0 = 1e4 # external nutrient \n",
    "Kt = 1000 # nutrient import threshold\n",
    "Km = 1000 # enzymatic threshold \n",
    "vt = 726 # max. nutrient import rate \n",
    "vm = 5800 # max. enzymatic rate \n",
    "M = 1e8 # total cell mass\n",
    "Kq = 152219 # q-autoinhibition threshold \n",
    "hq = 4 # q-autoinhibition hill coeff \n",
    "dm = 0.1 # mRNA degradation rate \n",
    "ku = 1 # mRNA-ribosome unbinding rate \n",
    "kb = 1 # mRNA-ribosome binding rate \n",
    "gmax = 1260 # max. transl. elongation rate \n",
    "nr = 7459 # ribosome length\n",
    "nt = 300 # length of non-ribosomal proteins \n",
    "nm = nt\n",
    "nq = nt\n",
    "Kp = 180\n",
    "wp = wt\n",
    "nx = nt\n",
    "ns = 0.5\n",
    "f = 1\n",
    "params = [wr, wt, wm, wq, thetar, thetax, s0, Kt, Km, vt, vm, M, Kq, hq, dm, ku, kb, gmax, nr, nt, nm, nq, Kp, wp, nx, ns, f]"
   ]
  },
  {
   "cell_type": "code",
   "execution_count": 47,
   "metadata": {},
   "outputs": [],
   "source": [
    "# matlab order \n",
    "cr_0= 0\n",
    "em_0= 0\n",
    "cp_0= 0\n",
    "cq_0= 0\n",
    "ct_0= 0\n",
    "et_0= 0\n",
    "cm_0= 0\n",
    "mt_0= 0\n",
    "mm_0= 0\n",
    "q_0= 0\n",
    "p_0= 0\n",
    "si_0= 0\n",
    "mq_0= 0\n",
    "mp_0= 0\n",
    "mr_0= 0\n",
    "r_0= 10.0\n",
    "a_0= 1000.0\n",
    "\n",
    "init= [cr_0, em_0, cp_0, cq_0, ct_0, et_0, cm_0, mt_0, mm_0, q_0, p_0, si_0, mq_0, mp_0, mr_0, r_0, a_0]\n"
   ]
  },
  {
   "cell_type": "code",
   "execution_count": 48,
   "metadata": {},
   "outputs": [],
   "source": [
    "# my order \n",
    "r_0 = 0\n",
    "et_0 = 0\n",
    "em_0 = 0\n",
    "q_0 = 0\n",
    "si_0 = 0\n",
    "a_0 = 0\n",
    "mr_0 = 0\n",
    "mt_0 = 0\n",
    "mm_0 = 0\n",
    "mq_0 = 0\n",
    "cr_0 = 0\n",
    "ct_0 = 0\n",
    "cm_0 = 0\n",
    "cq_0 = 0\n",
    "p_0 = 0\n",
    "mp_0 = 0\n",
    "cp_0 = 0\n",
    "init1 = [r_0, et_0, em_0, q_0, si_0, a_0, mr_0, mt_0, mm_0, mq_0, cr_0, ct_0, cm_0, cq_0, p_0, mp_0, cp_0]"
   ]
  },
  {
   "cell_type": "code",
   "execution_count": 49,
   "metadata": {},
   "outputs": [],
   "source": [
    "t0 = 0\n",
    "tf = 1e9\n",
    "times = np.linspace(t0, tf, 100)"
   ]
  },
  {
   "cell_type": "code",
   "execution_count": 50,
   "metadata": {},
   "outputs": [],
   "source": [
    "sol = solve_ivp(model1, [t0, tf], init, args=(params,), method='Radau')"
   ]
  },
  {
   "cell_type": "code",
   "execution_count": 51,
   "metadata": {},
   "outputs": [
    {
     "data": {
      "text/plain": [
       "[<matplotlib.lines.Line2D at 0x7ff2202d64c0>]"
      ]
     },
     "execution_count": 51,
     "metadata": {},
     "output_type": "execute_result"
    },
    {
     "data": {
      "image/png": "[encoded data removed]",
      "text/plain": [
       "<Figure size 432x288 with 1 Axes>"
      ]
     },
     "metadata": {
      "needs_background": "light"
     },
     "output_type": "display_data"
    }
   ],
   "source": [
    "plt.plot(sol.t, sol.y[-1])"
   ]
  },
  {
   "cell_type": "code",
   "execution_count": 56,
   "metadata": {},
   "outputs": [
    {
     "data": {
      "text/plain": [
       "[<matplotlib.lines.Line2D at 0x7ff2200c4a60>]"
      ]
     },
     "execution_count": 56,
     "metadata": {},
     "output_type": "execute_result"
    },
    {
     "data": {
      "image/png": "[encoded data removed]",
      "text/plain": [
       "<Figure size 432x288 with 1 Axes>"
      ]
     },
     "metadata": {
      "needs_background": "light"
     },
     "output_type": "display_data"
    }
   ],
   "source": [
    "plt.plot(sol.t, sol.y[4])"
   ]
  },
  {
   "cell_type": "code",
   "execution_count": 32,
   "metadata": {},
   "outputs": [
    {
     "ename": "NameError",
     "evalue": "name 'Kgamma' is not defined",
     "output_type": "error",
     "traceback": [
      "\u001b[0;31m---------------------------------------------------------------------------\u001b[0m",
      "\u001b[0;31mNameError\u001b[0m                                 Traceback (most recent call last)",
      "\u001b[0;32m/tmp/ipykernel_1568/3145401047.py\u001b[0m in \u001b[0;36m<module>\u001b[0;34m\u001b[0m\n\u001b[1;32m      3\u001b[0m \u001b[0;32mfor\u001b[0m \u001b[0ms0\u001b[0m \u001b[0;32min\u001b[0m \u001b[0mnutrient\u001b[0m\u001b[0;34m:\u001b[0m\u001b[0;34m\u001b[0m\u001b[0;34m\u001b[0m\u001b[0m\n\u001b[1;32m      4\u001b[0m     \u001b[0mloop\u001b[0m \u001b[0;34m=\u001b[0m \u001b[0msolve_ivp\u001b[0m\u001b[0;34m(\u001b[0m\u001b[0mmodel\u001b[0m\u001b[0;34m,\u001b[0m \u001b[0;34m[\u001b[0m\u001b[0mt0\u001b[0m\u001b[0;34m,\u001b[0m \u001b[0mtf\u001b[0m\u001b[0;34m]\u001b[0m\u001b[0;34m,\u001b[0m \u001b[0minit\u001b[0m\u001b[0;34m,\u001b[0m \u001b[0margs\u001b[0m\u001b[0;34m=\u001b[0m\u001b[0;34m(\u001b[0m\u001b[0mparams\u001b[0m\u001b[0;34m,\u001b[0m\u001b[0;34m)\u001b[0m\u001b[0;34m,\u001b[0m \u001b[0mmethod\u001b[0m\u001b[0;34m=\u001b[0m\u001b[0;34m'Radau'\u001b[0m\u001b[0;34m)\u001b[0m\u001b[0;34m\u001b[0m\u001b[0;34m\u001b[0m\u001b[0m\n\u001b[0;32m----> 5\u001b[0;31m     \u001b[0mgamma\u001b[0m \u001b[0;34m=\u001b[0m \u001b[0;34m(\u001b[0m\u001b[0mgmax\u001b[0m\u001b[0;34m*\u001b[0m\u001b[0mloop\u001b[0m\u001b[0;34m.\u001b[0m\u001b[0my\u001b[0m\u001b[0;34m[\u001b[0m\u001b[0;36m5\u001b[0m\u001b[0;34m]\u001b[0m\u001b[0;34m[\u001b[0m\u001b[0;34m-\u001b[0m\u001b[0;36m1\u001b[0m\u001b[0;34m]\u001b[0m\u001b[0;34m)\u001b[0m\u001b[0;34m/\u001b[0m\u001b[0;34m(\u001b[0m\u001b[0mKgamma\u001b[0m\u001b[0;34m+\u001b[0m\u001b[0mloop\u001b[0m\u001b[0;34m.\u001b[0m\u001b[0my\u001b[0m\u001b[0;34m[\u001b[0m\u001b[0;36m5\u001b[0m\u001b[0;34m]\u001b[0m\u001b[0;34m[\u001b[0m\u001b[0;34m-\u001b[0m\u001b[0;36m1\u001b[0m\u001b[0;34m]\u001b[0m\u001b[0;34m)\u001b[0m\u001b[0;34m\u001b[0m\u001b[0;34m\u001b[0m\u001b[0m\n\u001b[0m\u001b[1;32m      6\u001b[0m     \u001b[0mttrate\u001b[0m \u001b[0;34m=\u001b[0m \u001b[0;34m(\u001b[0m\u001b[0mloop\u001b[0m\u001b[0;34m.\u001b[0m\u001b[0my\u001b[0m\u001b[0;34m[\u001b[0m\u001b[0;36m10\u001b[0m\u001b[0;34m]\u001b[0m\u001b[0;34m[\u001b[0m\u001b[0;34m-\u001b[0m\u001b[0;36m1\u001b[0m\u001b[0;34m]\u001b[0m \u001b[0;34m+\u001b[0m \u001b[0mloop\u001b[0m\u001b[0;34m.\u001b[0m\u001b[0my\u001b[0m\u001b[0;34m[\u001b[0m\u001b[0;36m11\u001b[0m\u001b[0;34m]\u001b[0m\u001b[0;34m[\u001b[0m\u001b[0;34m-\u001b[0m\u001b[0;36m1\u001b[0m\u001b[0;34m]\u001b[0m \u001b[0;34m+\u001b[0m \u001b[0mloop\u001b[0m\u001b[0;34m.\u001b[0m\u001b[0my\u001b[0m\u001b[0;34m[\u001b[0m\u001b[0;36m12\u001b[0m\u001b[0;34m]\u001b[0m\u001b[0;34m[\u001b[0m\u001b[0;34m-\u001b[0m\u001b[0;36m1\u001b[0m\u001b[0;34m]\u001b[0m \u001b[0;34m+\u001b[0m \u001b[0mloop\u001b[0m\u001b[0;34m.\u001b[0m\u001b[0my\u001b[0m\u001b[0;34m[\u001b[0m\u001b[0;36m13\u001b[0m\u001b[0;34m]\u001b[0m\u001b[0;34m[\u001b[0m\u001b[0;34m-\u001b[0m\u001b[0;36m1\u001b[0m\u001b[0;34m]\u001b[0m \u001b[0;34m+\u001b[0m \u001b[0mloop\u001b[0m\u001b[0;34m.\u001b[0m\u001b[0my\u001b[0m\u001b[0;34m[\u001b[0m\u001b[0;36m16\u001b[0m\u001b[0;34m]\u001b[0m\u001b[0;34m[\u001b[0m\u001b[0;34m-\u001b[0m\u001b[0;36m1\u001b[0m\u001b[0;34m]\u001b[0m\u001b[0;34m)\u001b[0m\u001b[0;34m*\u001b[0m\u001b[0mgamma\u001b[0m\u001b[0;34m\u001b[0m\u001b[0;34m\u001b[0m\u001b[0m\n\u001b[1;32m      7\u001b[0m     \u001b[0mlam\u001b[0m \u001b[0;34m=\u001b[0m \u001b[0mttrate\u001b[0m\u001b[0;34m/\u001b[0m\u001b[0mM\u001b[0m\u001b[0;34m\u001b[0m\u001b[0;34m\u001b[0m\u001b[0m\n",
      "\u001b[0;31mNameError\u001b[0m: name 'Kgamma' is not defined"
     ]
    }
   ],
   "source": [
    "nutrient = np.arange(0, 1e4)\n",
    "growth_rate = []\n",
    "for s0 in nutrient:\n",
    "    loop = solve_ivp(model, [t0, tf], init, args=(params,), method='Radau')\n",
    "    gamma = (gmax*loop.y[5][-1])/(Kgamma+loop.y[5][-1])\n",
    "    ttrate = (loop.y[10][-1] + loop.y[11][-1] + loop.y[12][-1] + loop.y[13][-1] + loop.y[16][-1])*gamma\n",
    "    lam = ttrate/M\n",
    "    growth_rate.append(lam)\n",
    "\n",
    "plt.plot(nutrient, growth_rate)\n",
    "\n"
   ]
  },
  {
   "cell_type": "code",
   "execution_count": null,
   "metadata": {},
   "outputs": [],
   "source": [
    "print(len(growth_rate))"
   ]
  },
  {
   "cell_type": "code",
   "execution_count": null,
   "metadata": {},
   "outputs": [],
   "source": []
  },
  {
   "cell_type": "code",
   "execution_count": null,
   "metadata": {},
   "outputs": [],
   "source": []
  },
  {
   "cell_type": "code",
   "execution_count": null,
   "metadata": {},
   "outputs": [],
   "source": []
  },
  {
   "cell_type": "code",
   "execution_count": null,
   "metadata": {},
   "outputs": [],
   "source": []
  },
  {
   "cell_type": "code",
   "execution_count": null,
   "metadata": {},
   "outputs": [],
   "source": []
  },
  {
   "cell_type": "code",
   "execution_count": null,
   "metadata": {},
   "outputs": [],
   "source": []
  },
  {
   "cell_type": "code",
   "execution_count": null,
   "metadata": {},
   "outputs": [],
   "source": []
  },
  {
   "cell_type": "code",
   "execution_count": null,
   "metadata": {},
   "outputs": [],
   "source": []
  },
  {
   "cell_type": "code",
   "execution_count": null,
   "metadata": {},
   "outputs": [],
   "source": []
  },
  {
   "cell_type": "code",
   "execution_count": null,
   "metadata": {},
   "outputs": [],
   "source": []
  },
  {
   "cell_type": "code",
   "execution_count": null,
   "metadata": {},
   "outputs": [],
   "source": []
  }
 ],
 "metadata": {
  "interpreter": {
   "hash": "7133d4e188df27fea30ff71cf5ecd3c0df8961322f401482d427b04f022a2d36"
  },
  "kernelspec": {
   "display_name": "Python 3.9.7 64-bit ('phd': conda)",
   "name": "python3"
  },
  "language_info": {
   "codemirror_mode": {
    "name": "ipython",
    "version": 3
   },
   "file_extension": ".py",
   "mimetype": "text/x-python",
   "name": "python",
   "nbconvert_exporter": "python",
   "pygments_lexer": "ipython3",
   "version": "3.9.12"
  },
  "orig_nbformat": 4
 },
 "nbformat": 4,
 "nbformat_minor": 2
}
