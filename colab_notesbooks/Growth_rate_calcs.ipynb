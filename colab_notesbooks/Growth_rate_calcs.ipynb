{
  "nbformat": 4,
  "nbformat_minor": 0,
  "metadata": {
    "colab": {
      "provenance": [],
      "authorship_tag": "ABX9TyOHs6/28zSxknzZ2dWsNcYv",
      "include_colab_link": true
    },
    "kernelspec": {
      "name": "python3",
      "display_name": "Python 3"
    },
    "language_info": {
      "name": "python"
    }
  },
  "cells": [
    {
      "cell_type": "markdown",
      "metadata": {
        "id": "view-in-github",
        "colab_type": "text"
      },
      "source": [
        "<a href=\"https://colab.research.google.com/github/hhindley/phd/blob/main/colab_notesbooks/Growth_rate_calcs.ipynb\" target=\"_parent\"><img src=\"https://colab.research.google.com/assets/colab-badge.svg\" alt=\"Open In Colab\"/></a>"
      ]
    },
    {
      "cell_type": "code",
      "execution_count": 1,
      "metadata": {
        "colab": {
          "base_uri": "https://localhost:8080/"
        },
        "id": "fnjXhLhPicS2",
        "outputId": "71dd9a3c-9f26-48b4-f4c6-f506bd5ae079"
      },
      "outputs": [
        {
          "output_type": "stream",
          "name": "stdout",
          "text": [
            "Mounted at /content/drive\n"
          ]
        }
      ],
      "source": [
        "from google.colab import drive\n",
        "drive.mount('/content/drive', force_remount=True)\n",
        "\n",
        "import numpy as np\n",
        "import pandas as pd\n",
        "import matplotlib.pyplot as plt"
      ]
    },
    {
      "cell_type": "code",
      "source": [
        "df_colD = pd.read_csv('/content/drive/MyDrive/data/bo_data/colD_supf2_bo.csv')\n",
        "df_f4e = pd.read_csv('/content/drive/MyDrive/data/bo_data/fig4e_rtcoff_bo.csv')\n",
        "df_f4f = pd.read_csv('/content/drive/MyDrive/data/bo_data/fig4f_rtcon_bo.csv')"
      ],
      "metadata": {
        "id": "ty4Fs94Kifvr"
      },
      "execution_count": 2,
      "outputs": []
    },
    {
      "cell_type": "code",
      "source": [
        "df_colD.set_index('Time (hours)', drop=False, inplace=True)\n",
        "df_colD = df_colD.drop('Time (hours)', axis=1)\n",
        "\n",
        "df_f4e.set_index('Time (hpi)', drop=False, inplace=True)\n",
        "df_f4e = df_f4e.drop('Time (hpi)', axis=1)\n",
        "\n",
        "df_f4f.set_index('Time (hpi)', drop=False, inplace=True)\n",
        "df_f4f = df_f4f.drop('Time (hpi)', axis=1)"
      ],
      "metadata": {
        "id": "UkwVdXV4ihJr"
      },
      "execution_count": 3,
      "outputs": []
    },
    {
      "cell_type": "code",
      "source": [
        "OD2 = np.log10(df_colD.iloc[18,0:1])[0]\n",
        "OD1 = np.log10(df_colD.iloc[9,0:1])[0]\n",
        "t2 = (df_colD.iloc[18,0:1]).values[0]\n",
        "t1 = (df_colD.iloc[9,0:1]).values[0]\n",
        "gr = 2.303*(OD2-OD1)/(t2-t1)\n",
        "\n",
        "OD2a = np.log(df_colD.iloc[18,0:1])[0]\n",
        "OD1a = np.log(df_colD.iloc[9,0:1])[0]\n",
        "gr1 = (OD2a-OD1a)/0.301*(t2-t1)\n",
        "\n",
        "print('OD2 =', OD2)\n",
        "print('OD1 =', OD1)\n",
        "print('t2 =', t2)\n",
        "print('t1 =', t1)\n",
        "print('gr =', gr)\n",
        "print(gr1)"
      ],
      "metadata": {
        "colab": {
          "base_uri": "https://localhost:8080/"
        },
        "id": "D1Smf_eEijbG",
        "outputId": "35654a55-c0bd-445c-b7b2-41c5c5e3e50c"
      },
      "execution_count": 4,
      "outputs": [
        {
          "output_type": "stream",
          "name": "stdout",
          "text": [
            "OD2 = 0.26685861052218046\n",
            "OD1 = -0.1819941694674712\n",
            "t2 = 1.848666666666667\n",
            "t1 = 0.6576666666666667\n",
            "gr = 0.8679327895181927\n",
            "4.089449729908146\n"
          ]
        }
      ]
    },
    {
      "cell_type": "code",
      "source": [
        "(df_colD.iloc[:,0:1]).plot(marker='o', logy=True)"
      ],
      "metadata": {
        "colab": {
          "base_uri": "https://localhost:8080/",
          "height": 297
        },
        "id": "xb3Gb4YAip_A",
        "outputId": "1ccf8526-8417-414c-cd57-19e0da25096d"
      },
      "execution_count": 5,
      "outputs": [
        {
          "output_type": "execute_result",
          "data": {
            "text/plain": [
              "<matplotlib.axes._subplots.AxesSubplot at 0x7fcfdf5c5a90>"
            ]
          },
          "metadata": {},
          "execution_count": 5
        },
        {
          "output_type": "display_data",
          "data": {
            "text/plain": [
              "<Figure size 432x288 with 1 Axes>"
            ],
            "image/png": "[encoded data removed]"
          },
          "metadata": {
            "needs_background": "light"
          }
        }
      ]
    },
    {
      "cell_type": "code",
      "source": [
        "OD2_4e = np.log10(df_f4e.iloc[2,0:1])[0]\n",
        "OD1_4e = np.log10(df_f4e.iloc[0,0:1])[0]\n",
        "t2_4e = (df_f4e.iloc[2,0:1]).values[0]\n",
        "t1_4e = (df_f4e.iloc[0,0:1]).values[0]\n",
        "gr_4e = 2.303*(OD2_4e-OD1_4e)/(t2_4e-t1_4e)\n",
        "\n",
        "print('OD2 =', OD2_4e)\n",
        "print('OD1 =', OD1_4e)\n",
        "print('t2 =', t2_4e)\n",
        "print('t1 =', t1_4e)\n",
        "print('gr =', gr_4e)"
      ],
      "metadata": {
        "colab": {
          "base_uri": "https://localhost:8080/"
        },
        "id": "37GG1xAairGJ",
        "outputId": "1a2f6440-1fc4-48ba-ed25-73728e71c818"
      },
      "execution_count": 6,
      "outputs": [
        {
          "output_type": "stream",
          "name": "stdout",
          "text": [
            "OD2 = 0.1338581252033347\n",
            "OD1 = -0.36552272983926837\n",
            "t2 = 1.361\n",
            "t1 = 0.431\n",
            "gr = 1.2366388270571127\n"
          ]
        }
      ]
    },
    {
      "cell_type": "code",
      "source": [
        "(df_f4e.iloc[:,0:1]).plot(marker='o',logy=True)"
      ],
      "metadata": {
        "colab": {
          "base_uri": "https://localhost:8080/",
          "height": 297
        },
        "id": "wQfbZA1tiuRX",
        "outputId": "a526fff1-7fe4-4ef9-f343-10648022de0f"
      },
      "execution_count": 7,
      "outputs": [
        {
          "output_type": "execute_result",
          "data": {
            "text/plain": [
              "<matplotlib.axes._subplots.AxesSubplot at 0x7fcfdf32ced0>"
            ]
          },
          "metadata": {},
          "execution_count": 7
        },
        {
          "output_type": "display_data",
          "data": {
            "text/plain": [
              "<Figure size 432x288 with 1 Axes>"
            ],
            "image/png": "[encoded data removed]"
          },
          "metadata": {
            "needs_background": "light"
          }
        }
      ]
    },
    {
      "cell_type": "code",
      "source": [
        "OD2_4f = np.log10(df_f4f.iloc[2,0:1])[0]\n",
        "OD1_4f = np.log10(df_f4f.iloc[0,0:1])[0]\n",
        "t2_4f = (df_f4f.iloc[2,0:1]).values[0]\n",
        "t1_4f = (df_f4f.iloc[0,0:1]).values[0]\n",
        "gr_4f = 2.303*(OD2_4f-OD1_4f)/(t2_4f-t1_4f)\n",
        "\n",
        "print('OD2 =', OD2_4f)\n",
        "print('OD1 =', OD1_4f)\n",
        "print('t2 =', t2_4f)\n",
        "print('t1 =', t1_4f)\n",
        "print('gr =', gr_4f)"
      ],
      "metadata": {
        "colab": {
          "base_uri": "https://localhost:8080/"
        },
        "id": "hHAvcPtsivVJ",
        "outputId": "e8a8f5d9-2f45-4518-aabc-d6e8b4953305"
      },
      "execution_count": 9,
      "outputs": [
        {
          "output_type": "stream",
          "name": "stdout",
          "text": [
            "OD2 = 0.09956555059643898\n",
            "OD1 = -0.46767035849602284\n",
            "t2 = 1.257666667\n",
            "t1 = 0.340666667\n",
            "gr = 1.4245848403925183\n"
          ]
        }
      ]
    },
    {
      "cell_type": "code",
      "source": [
        "(df_f4f.iloc[:,0:1]).plot(marker='o',logy=True)"
      ],
      "metadata": {
        "colab": {
          "base_uri": "https://localhost:8080/",
          "height": 297
        },
        "id": "M9liGhmOiwdf",
        "outputId": "41004e7b-8889-4967-d937-0e77316029cd"
      },
      "execution_count": 10,
      "outputs": [
        {
          "output_type": "execute_result",
          "data": {
            "text/plain": [
              "<matplotlib.axes._subplots.AxesSubplot at 0x7fcfdee31a50>"
            ]
          },
          "metadata": {},
          "execution_count": 10
        },
        {
          "output_type": "display_data",
          "data": {
            "text/plain": [
              "<Figure size 432x288 with 1 Axes>"
            ],
            "image/png": "[encoded data removed]"
          },
          "metadata": {
            "needs_background": "light"
          }
        }
      ]
    },
    {
      "cell_type": "code",
      "source": [],
      "metadata": {
        "id": "oc13JnxsizJG"
      },
      "execution_count": null,
      "outputs": []
    }
  ]
}