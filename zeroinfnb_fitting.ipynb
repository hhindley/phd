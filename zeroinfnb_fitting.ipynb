{
 "cells": [
  {
   "cell_type": "code",
   "execution_count": 2,
   "id": "f5a3bbc5-cc26-4b2d-b0c7-76b6f85511f3",
   "metadata": {
    "tags": []
   },
   "outputs": [],
   "source": [
    "import numpy as np\n",
    "import pandas as pd\n",
    "import matplotlib.pyplot as plt\n",
    "\n",
    "import statsmodels.distributions.discrete as distr\n",
    "from statsmodels.discrete.discrete_model import NegativeBinomialP, NegativeBinomial, Poisson, GeneralizedPoisson\n",
    "from statsmodels.discrete.count_model import (ZeroInflatedNegativeBinomialP, ZeroInflatedPoisson,\n",
    "                                              ZeroInflatedGeneralizedPoisson)\n",
    "import statsmodels.discrete._diagnostics_count as dia\n",
    "\n",
    "import statsmodels.api as sm"
   ]
  },
  {
   "cell_type": "code",
   "execution_count": 28,
   "id": "3282e46c-7288-45ca-936b-d02126c3f0dc",
   "metadata": {
    "tags": []
   },
   "outputs": [
    {
     "name": "stdout",
     "output_type": "stream",
     "text": [
      "Optimization terminated successfully.\n",
      "         Current function value: 3.316494\n",
      "         Iterations: 41\n",
      "         Function evaluations: 46\n",
      "         Gradient evaluations: 46\n",
      "                     ZeroInflatedNegativeBinomialP Regression Results                    \n",
      "=========================================================================================\n",
      "Dep. Variable:                                 y   No. Observations:                    8\n",
      "Model:             ZeroInflatedNegativeBinomialP   Df Residuals:                        6\n",
      "Method:                                      MLE   Df Model:                            1\n",
      "Date:                           Wed, 23 Oct 2024   Pseudo R-squ.:                  0.2650\n",
      "Time:                                   13:18:44   Log-Likelihood:                -26.532\n",
      "converged:                                  True   LL-Null:                       -36.097\n",
      "Covariance Type:                       nonrobust   LLR p-value:                 1.220e-05\n",
      "=================================================================================\n",
      "                    coef    std err          z      P>|z|      [0.025      0.975]\n",
      "---------------------------------------------------------------------------------\n",
      "inflate_const   -20.2791   8905.310     -0.002      0.998   -1.75e+04    1.74e+04\n",
      "const             5.4414      0.384     14.186      0.000       4.690       6.193\n",
      "x1               -0.9445      0.136     -6.941      0.000      -1.211      -0.678\n",
      "alpha             0.3450      0.224      1.538      0.124      -0.095       0.785\n",
      "=================================================================================\n"
     ]
    },
    {
     "name": "stderr",
     "output_type": "stream",
     "text": [
      "/Users/aweisse/anaconda3/lib/python3.11/site-packages/statsmodels/discrete/discrete_model.py:3935: RuntimeWarning: invalid value encountered in log\n",
      "  a1 * np.log(a1) + y * np.log(mu) -\n",
      "/Users/aweisse/anaconda3/lib/python3.11/site-packages/statsmodels/discrete/discrete_model.py:3936: RuntimeWarning: invalid value encountered in log\n",
      "  (y + a1) * np.log(a2))\n",
      "/Users/aweisse/anaconda3/lib/python3.11/site-packages/statsmodels/base/model.py:595: HessianInversionWarning: Inverting hessian failed, no bse or cov_params available\n",
      "  warnings.warn('Inverting hessian failed, no bse or cov_params '\n",
      "/Users/aweisse/anaconda3/lib/python3.11/site-packages/statsmodels/base/optimizer.py:18: FutureWarning: Keyword arguments have been passed to the optimizer that have no effect. The list of allowed keyword arguments for method bfgs is: gtol, norm, epsilon. The list of unsupported keyword arguments passed include: maxfun. After release 0.14, this will raise.\n",
      "  warnings.warn(\n",
      "/Users/aweisse/anaconda3/lib/python3.11/site-packages/statsmodels/base/model.py:595: HessianInversionWarning: Inverting hessian failed, no bse or cov_params available\n",
      "  warnings.warn('Inverting hessian failed, no bse or cov_params '\n",
      "/Users/aweisse/anaconda3/lib/python3.11/site-packages/statsmodels/base/model.py:595: HessianInversionWarning: Inverting hessian failed, no bse or cov_params available\n",
      "  warnings.warn('Inverting hessian failed, no bse or cov_params '\n"
     ]
    },
    {
     "data": {
      "image/png": "[encoded data removed]",
      "text/plain": [
       "<Figure size 640x480 with 1 Axes>"
      ]
     },
     "metadata": {},
     "output_type": "display_data"
    }
   ],
   "source": [
    "# endog=[455,25,9,3,1,1,0,0]\n",
    "endog=[434,29,24,16,2,1,2,1]\n",
    "exog=[[1,0],[1,1],[1,2],[1,3],[1,4],[1,5],[1,6],[1,7]]\n",
    "\n",
    "\n",
    "endog=np.array(endog)\n",
    "exog=np.array(exog)\n",
    "\n",
    "plt.plot(exog[:,1],endog,'r.-')\n",
    "plt.xlabel('exog')\n",
    "plt.ylabel('endog')\n",
    "# plt.savefig('plot.png')\n",
    "\n",
    "# # method 1 \n",
    "# model_nb = NegativeBinomial(endog, exog, loglike_method='nb2')\n",
    "# model_nb = NegativeBinomialP(endog, exog, p=2)\n",
    "# res_nb = model_nb.fit(method='bfgs', maxiter=5000, maxfun=5000)\n",
    "\n",
    "#method 2 \n",
    "model_zinb = ZeroInflatedNegativeBinomialP(endog, exog, p=2)\n",
    "res_nb = model_zinb.fit(method='bfgs',maxiter=5000, maxfun=5000)\n",
    "print(res_nb.summary())\n"
   ]
  },
  {
   "cell_type": "code",
   "execution_count": 33,
   "id": "cfa43ca4-9394-4eee-8248-13e1d475974e",
   "metadata": {
    "tags": []
   },
   "outputs": [
    {
     "data": {
      "text/plain": [
       "<bound method DiscreteModel.initialize of <statsmodels.discrete.count_model.ZeroInflatedNegativeBinomialP object at 0x177167610>>"
      ]
     },
     "execution_count": 33,
     "metadata": {},
     "output_type": "execute_result"
    }
   ],
   "source": [
    "model_zinb."
   ]
  }
 ],
 "metadata": {
  "kernelspec": {
   "display_name": "Python 3 (ipykernel)",
   "language": "python",
   "name": "python3"
  },
  "language_info": {
   "codemirror_mode": {
    "name": "ipython",
    "version": 3
   },
   "file_extension": ".py",
   "mimetype": "text/x-python",
   "name": "python",
   "nbconvert_exporter": "python",
   "pygments_lexer": "ipython3",
   "version": "3.11.5"
  }
 },
 "nbformat": 4,
 "nbformat_minor": 5
}
