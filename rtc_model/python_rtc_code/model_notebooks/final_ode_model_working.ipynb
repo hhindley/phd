{
 "cells": [
  {
   "cell_type": "code",
   "execution_count": 1,
   "metadata": {},
   "outputs": [],
   "source": [
    "import time\n",
    "import numpy as np\n",
    "import matplotlib.pyplot as plt\n",
    "from scipy.integrate import solve_ivp\n",
    "from joblib import Parallel, delayed"
   ]
  },
  {
   "cell_type": "code",
   "execution_count": 12,
   "metadata": {},
   "outputs": [],
   "source": [
    "# model with my equations but matlab order \n",
    "def model(t, y, params):\n",
    "    \n",
    "    # params\n",
    "    b, dm, kb, ku, f, thetar, k_cm, s0, gmax, cl, thetax, Kt, M, we, Km, vm, nx, Kq, Kp, vt, wr, wq, wp, hq, nr, ns = params\n",
    "    \n",
    "    # lhs\n",
    "    cr, em, cp, cq, ct, et, cm, mt, mm, q, p, si, mq, mp, mr, r, a = y\n",
    "    \n",
    "    # equations\n",
    "    Kgamma = gmax/Kp\n",
    "    gamma = (gmax*a)/(Kgamma+a)\n",
    "    ttrate = (cq + cr + cp + ct + cm)*gamma\n",
    "    lam = ttrate/M\n",
    "    vimp = (et*vt*s0)/(Kt+s0)\n",
    "    nucat = (em*vm*si)/(Km+si)\n",
    "\n",
    "    # rhs\n",
    "    dydt = np.zeros(17)\n",
    "    dydt[0] = + (r*mr*kb) - (cr*ku) - (cr*lam) - (cr*gamma)/nr - (f*cr)\n",
    "    dydt[1] = - (lam*em) + (cm*gamma)/nx\n",
    "    dydt[2] = + (r*mp*kb) - (cp*ku) - (cp*lam) - (cp*gamma)/nx - (f*cp)\n",
    "    dydt[3] = + (r*mq*kb) - (cq*ku) - (cq*lam) - (cq*gamma)/nx - (f*cq)\n",
    "    dydt[4] = + (r*mt*kb) - (ct*ku) - (ct*lam) - (ct*gamma)/nx - (f*ct)\n",
    "    dydt[5] = - (lam*et) + (ct*gamma)/nx\n",
    "    dydt[6] = + (r*mm*kb) - (cm*ku) - (cm*lam) - (cm*gamma)/nx - (f*cm)\n",
    "    dydt[7] = + (we*a/(thetax+a)) - mt*(lam+dm) - (r*mt*kb) + (ct*ku) + ((ct*gamma)/nx)\n",
    "    dydt[8] = + (we*a/(thetax+a)) - mm*(lam+dm) - (r*mm*kb) + (cm*ku) + ((cm*gamma)/nx)\n",
    "    dydt[9] = - (lam*q) + (cq*gamma)/nx\n",
    "    dydt[10] = - (lam*p) + (cp*gamma)/nx\n",
    "    dydt[11] = - (lam*si) + (vimp) - (nucat)\n",
    "    dydt[12] = + (wq*a/(thetax+a)/(1+(q/Kq)**hq)) - mq*(lam+dm) - (r*mq*kb) + (cq*ku) + (cq*gamma)/nx\n",
    "    dydt[13] = + (wp*a/(thetax+a)) - mp*(lam+dm) - (r*mp*kb) + (cp*ku) + (cp*gamma)/nx\n",
    "    dydt[14] = + (wr*a/(thetar+a)) - mr*(lam+dm)- (r*mr*kb) + (cr*ku) + (cr*gamma)/nr\n",
    "    dydt[15] = - (lam*r) - (r*mr*kb) - (r*mt*kb) - (r*mm*kb) - (r*mq*kb) - (r*mp*kb) + (cr*ku) + (ct*ku) + (cm*ku) + (cq*ku) + (cp*ku) + (cr*gamma)/nr + (cr*gamma)/nr + (ct*gamma)/nx + (cm*gamma)/nx + (cq*gamma)/nx + (cp*gamma)/nx\n",
    "    dydt[16] = + (ns*nucat) - ttrate - (lam*a) # this is the right equation, where did ns come into it? - from 3rd reaction but is on the rhs so wouldn't appear in the ode?\n",
    "\n",
    "    return dydt"
   ]
  },
  {
   "cell_type": "code",
   "execution_count": 17,
   "metadata": {},
   "outputs": [],
   "source": [
    "b= 0\n",
    "dm= 0.1\n",
    "kb= 1\n",
    "ku= 1.0\n",
    "f= 1\n",
    "thetar= 426.8693338968694\n",
    "k_cm= 0.005990373118888\n",
    "s0= 1e4\n",
    "gmax= 1260.0\n",
    "cl= 0\n",
    "thetax= 4.379733394834643\n",
    "Kt= 1.0e3\n",
    "M= 1.0e8\n",
    "we= 4.139172187824451\n",
    "Km= 1.0e3\n",
    "vm= 5800.0\n",
    "nx= 300.0\n",
    "Kq= 1.522190403737490e+05\n",
    "Kp= 180.1378030928276\n",
    "vt= 726.0\n",
    "wr= 929.9678874564831\n",
    "wq= 948.9349882947897\n",
    "wp= 0.0\n",
    "hq= 4\n",
    "nr= 7549.0\n",
    "ns= 0.5\n",
    "params= [b, dm, kb, ku, f, thetar, k_cm, s0, gmax, cl, thetax, Kt, M, we, Km, vm, nx, Kq, Kp, vt, wr, wq, wp, hq, nr, ns]"
   ]
  },
  {
   "cell_type": "code",
   "execution_count": 18,
   "metadata": {},
   "outputs": [],
   "source": [
    "cr_0= 0\n",
    "em_0= 0\n",
    "cp_0= 0\n",
    "cq_0= 0\n",
    "ct_0= 0\n",
    "et_0= 0\n",
    "cm_0= 0\n",
    "mt_0= 0\n",
    "mm_0= 0\n",
    "q_0= 0\n",
    "p_0= 0\n",
    "si_0= 0\n",
    "mq_0= 0\n",
    "mp_0= 0\n",
    "mr_0= 0\n",
    "r_0= 10.0\n",
    "a_0= 1000.0\n",
    "\n",
    "init= [cr_0, em_0, cp_0, cq_0, ct_0, et_0, cm_0, mt_0, mm_0, q_0, p_0, si_0, mq_0, mp_0, mr_0, r_0, a_0]\n"
   ]
  },
  {
   "cell_type": "code",
   "execution_count": 19,
   "metadata": {},
   "outputs": [
    {
     "name": "stdout",
     "output_type": "stream",
     "text": [
      "0.12561392784118652\n"
     ]
    }
   ],
   "source": [
    "t0 = 0\n",
    "tf = 1e9\n",
    "\n",
    "t1 = time.time()\n",
    "sol = solve_ivp(model, [t0, tf], init, args=(params,), method='Radau')\n",
    "t2 = time.time()\n",
    "total = t2-t1\n",
    "print(total)\n"
   ]
  },
  {
   "cell_type": "code",
   "execution_count": 20,
   "metadata": {},
   "outputs": [
    {
     "data": {
      "image/png": "[encoded data removed]",
      "text/plain": [
       "<Figure size 432x288 with 1 Axes>"
      ]
     },
     "metadata": {
      "needs_background": "light"
     },
     "output_type": "display_data"
    }
   ],
   "source": [
    "for i in range(sol.y.shape[0]):\n",
    "    plt.plot(sol.t, sol.y[i], label=f'$X_{i}(t)$')\n",
    "plt.show()"
   ]
  },
  {
   "cell_type": "code",
   "execution_count": 10,
   "metadata": {},
   "outputs": [],
   "source": [
    "t = sol.t\n",
    "cr = sol.y[0]\n",
    "em = sol.y[1]\n",
    "cp = sol.y[2]\n",
    "cq = sol.y[3]\n",
    "ct = sol.y[4]\n",
    "et = sol.y[5]\n",
    "cm = sol.y[6]\n",
    "mt = sol.y[7]\n",
    "mm = sol.y[8]\n",
    "q = sol.y[9]\n",
    "p = sol.y[10]\n",
    "si = sol.y[11]\n",
    "mq = sol.y[12]\n",
    "mp = sol.y[13]\n",
    "mr = sol.y[14]\n",
    "r = sol.y[15]\n",
    "a = sol.y[16]"
   ]
  },
  {
   "cell_type": "code",
   "execution_count": 15,
   "metadata": {},
   "outputs": [
    {
     "data": {
      "text/plain": [
       "[<matplotlib.lines.Line2D at 0x7f91f80674f0>]"
      ]
     },
     "execution_count": 15,
     "metadata": {},
     "output_type": "execute_result"
    },
    {
     "data": {
      "image/png": "[encoded data removed]",
      "text/plain": [
       "<Figure size 432x288 with 1 Axes>"
      ]
     },
     "metadata": {
      "needs_background": "light"
     },
     "output_type": "display_data"
    }
   ],
   "source": [
    "plt.plot(t, a)"
   ]
  },
  {
   "cell_type": "code",
   "execution_count": 2,
   "metadata": {},
   "outputs": [],
   "source": [
    "# model with my equations but matlab order \n",
    "def monod_ode(t, y, params, s0):\n",
    "    \n",
    "    # params\n",
    "    b, dm, kb, ku, f, thetar, k_cm, gmax, cl, thetax, Kt, M, we, Km, vm, nx, Kq, Kp, vt, wr, wq, wp, hq, nr, ns, Kgamma = params\n",
    "    \n",
    "    # lhs\n",
    "    cr, em, cp, cq, ct, et, cm, mt, mm, q, p, si, mq, mp, mr, r, a = y\n",
    "    \n",
    "    # equations\n",
    "    gamma = (gmax*a)/(Kgamma+a)\n",
    "    ttrate = (cq + cr + cp + ct + cm)*gamma\n",
    "    lam = ttrate/M\n",
    "    vimp = (et*vt*s0/(Kt+s0))\n",
    "    nucat = (em*vm*si/(Km+si))\n",
    "    # rhs\n",
    "    dydt = np.zeros(17)\n",
    "    dydt[0] = + (r*mr*kb) - (cr*ku) - (cr*lam) - (cr*gamma)/nr - (f*cr)\n",
    "    dydt[1] = - (lam*em) + (cm*gamma)/nx\n",
    "    dydt[2] = + (r*mp*kb) - (cp*ku) - (cp*lam) - (cp*gamma)/nx - (f*cp)\n",
    "    dydt[3] = + (r*mq*kb) - (cq*ku) - (cq*lam) - (cq*gamma)/nx - (f*cq)\n",
    "    dydt[4] = + (r*mt*kb) - (ct*ku) - (ct*lam) - (ct*gamma)/nx - (f*ct)\n",
    "    dydt[5] = - (lam*et) + (ct*gamma)/nx\n",
    "    dydt[6] = + (r*mm*kb) - (cm*ku) - (cm*lam) - (cm*gamma)/nx - (f*cm)\n",
    "    dydt[7] = + (we*a/(thetax+a)) - mt*(lam+dm) - (r*mt*kb) + (ct*ku) + ((ct*gamma)/nx)\n",
    "    dydt[8] = + (we*a/(thetax+a)) - mm*(lam+dm) - (r*mm*kb) + (cm*ku) + ((cm*gamma)/nx)\n",
    "    dydt[9] = - (lam*q) + (cq*gamma)/nx\n",
    "    dydt[10] = - (lam*p) + (cp*gamma)/nx\n",
    "    dydt[11] = - (lam*si) + vimp - nucat\n",
    "    dydt[12] = + (wq*a/(thetax+a)/(1+(q/Kq)**hq)) - mq*(lam+dm) - (r*mq*kb) + (cq*ku) + (cq*gamma)/nx\n",
    "    dydt[13] = + (wp*a/(thetax+a)) - mp*(lam+dm) - (r*mp*kb) + (cp*ku) + (cp*gamma)/nx\n",
    "    dydt[14] = + (wr*a/(thetar+a)) - mr*(lam+dm)- (r*mr*kb) + (cr*ku) + (cr*gamma)/nr\n",
    "    dydt[15] = - (lam*r) - (r*mr*kb) - (r*mt*kb) - (r*mm*kb) - (r*mq*kb) - (r*mp*kb) + (cr*ku) + (ct*ku) + (cm*ku) + (cq*ku) + (cp*ku) + (cr*gamma)/nr + (cr*gamma)/nr + (ct*gamma)/nx + (cm*gamma)/nx + (cq*gamma)/nx + (cp*gamma)/nx\n",
    "    dydt[16] = + (ns*nucat) - ttrate - (lam*a) # this is the right equation, where did ns come into it? - from 3rd reaction but is on the rhs so wouldn't appear in the ode?\n",
    "\n",
    "    return dydt"
   ]
  },
  {
   "cell_type": "code",
   "execution_count": 3,
   "metadata": {},
   "outputs": [],
   "source": [
    "b= 0\n",
    "dm= 0.1\n",
    "kb= 1\n",
    "ku= 1.0\n",
    "f= 0 # also is cl*kcm for later simulations\n",
    "thetar= 426.8693338968694\n",
    "k_cm= 0.005990373118888\n",
    "# s0= 1e4\n",
    "gmax= 1260.0\n",
    "cl= 0\n",
    "thetax= 4.379733394834643\n",
    "Kt= 1.0e3\n",
    "M= 1.0e8\n",
    "we= 4.139172187824451\n",
    "Km= 1.0e3\n",
    "vm= 5800.0\n",
    "nx= 300.0\n",
    "Kq= 1.522190403737490e+05\n",
    "Kp= 180.1378030928276\n",
    "vt= 726.0\n",
    "wr= 929.9678874564831\n",
    "wq= 948.9349882947897\n",
    "wp= 0.0\n",
    "hq= 4\n",
    "nr= 7549.0\n",
    "ns= 0.5\n",
    "Kgamma = 7\n",
    "params_m = [b, dm, kb, ku, f, thetar, k_cm, gmax, cl, thetax, Kt, M, we, Km, vm, nx, Kq, Kp, vt, wr, wq, wp, hq, nr, ns, Kgamma]"
   ]
  },
  {
   "cell_type": "code",
   "execution_count": 10,
   "metadata": {},
   "outputs": [],
   "source": [
    "cr_ss = cr[-1]\n",
    "em_ss = em[-1]\n",
    "cp_ss = cp[-1]\n",
    "cq_ss= cq[-1]\n",
    "ct_ss = ct[-1]\n",
    "et_ss = et[-1]\n",
    "cm_ss = cm[-1]\n",
    "mt_ss = mt[-1]\n",
    "mm_ss = mm[-1]\n",
    "q_ss = q[-1]\n",
    "p_ss = p[-1]\n",
    "si_ss = si[-1]\n",
    "mq_ss = mq[-1]\n",
    "mp_ss = mp[-1]\n",
    "mr_ss =  mr[-1]\n",
    "r_ss = r[-1]\n",
    "a_ss = a[-1]\n",
    "zcr_0 = 0\n",
    "zcq_0 = 0\n",
    "zct_0 = 0\n",
    "zcm_0 = 0\n",
    "zcp_0 = 0\n",
    "\n",
    "init_ss = [cr_ss, em_ss, cp_ss, cq_ss, ct_ss, et_ss, cm_ss, mt_ss, mm_ss, q_ss, p_ss, si_ss, mq_ss, mp_ss, mr_ss, r_ss, a_ss, zcr_0, zcq_0, zct_0, zcm_0, zcp_0]\n"
   ]
  },
  {
   "cell_type": "code",
   "execution_count": 5,
   "metadata": {},
   "outputs": [],
   "source": [
    "gr = []\n",
    "nutrient = np.arange(0, 5e4)\n",
    "t0_m = 0\n",
    "tf_m = 100 \n",
    "\n",
    "def monod_loop(s0): # function to parallelise the code to make it run faster - only takes 10 minutes, 5 minutes with LSODA\n",
    "    monod = solve_ivp(monod_ode, [t0_m, tf_m], init, args=(params_m,s0,), method='LSODA')\n",
    "    a_m = monod.y[16]\n",
    "    cq_m = monod.y[3]\n",
    "    cr_m = monod.y[0]\n",
    "    cp_m = monod.y[2]\n",
    "    ct_m = monod.y[4]\n",
    "    cm_m = monod.y[6]\n",
    "    gamma_m = (gmax*a_m[-1]/(Kgamma+a_m[-1]))\n",
    "    ttrate_m = (cq_m[-1] + cr_m[-1] + cp_m[-1] + ct_m[-1] + cm_m[-1])*gamma_m\n",
    "    lam_m = ttrate_m/M\n",
    "    return lam_m\n",
    "gr = Parallel(n_jobs=6)(delayed(monod_loop)(s0) for s0 in nutrient)\n",
    "\n",
    "\n",
    "# for s0 in nutrient: # this loop takes 30 mins to run with Radau, LSODA takes 11 mins\n",
    "#     monod = solve_ivp(monod_ode, [t0_m, tf_m], init, args=(params_m,s0,), method='LSODA')\n",
    "#     a_m = monod.y[16]\n",
    "#     cq_m = monod.y[3]\n",
    "#     cr_m = monod.y[0]\n",
    "#     cp_m = monod.y[2]\n",
    "#     ct_m = monod.y[4]\n",
    "#     cm_m = monod.y[6]\n",
    "#     gamma_m = (gmax*a_m[-1]/(Kgamma+a_m[-1]))\n",
    "#     ttrate_m = (cq_m[-1] + cr_m[-1] + cp_m[-1] + ct_m[-1] + cm_m[-1])*gamma_m\n",
    "#     lam_m = ttrate_m/M\n",
    "#     gr.append(lam_m)\n",
    "\n"
   ]
  },
  {
   "cell_type": "code",
   "execution_count": 6,
   "metadata": {},
   "outputs": [
    {
     "data": {
      "text/plain": [
       "Text(0.5, 1.0, 'Monods law')"
      ]
     },
     "execution_count": 6,
     "metadata": {},
     "output_type": "execute_result"
    },
    {
     "data": {
      "image/png": "[encoded data removed]",
      "text/plain": [
       "<Figure size 432x288 with 1 Axes>"
      ]
     },
     "metadata": {
      "needs_background": "light"
     },
     "output_type": "display_data"
    }
   ],
   "source": [
    "plt.plot(nutrient, gr)\n",
    "plt.xlabel('nutrient quality')\n",
    "plt.ylabel('growth rate')\n",
    "plt.title('Monods law')"
   ]
  },
  {
   "cell_type": "code",
   "execution_count": 27,
   "metadata": {},
   "outputs": [],
   "source": [
    "# model with my equations but matlab order \n",
    "def ns_cl_ode(t, y, params, ns, cl):\n",
    "    \n",
    "    # params\n",
    "    b, dm, kb, ku, f, thetar, k_cm, gmax, cl, thetax, Kt, M, we, Km, vm, nx, Kq, Kp, vt, wr, wq, wp, hq, nr, ns, Kgamma = params\n",
    "    \n",
    "    # lhs\n",
    "    cr, em, cp, cq, ct, et, cm, mt, mm, q, p, si, mq, mp, mr, r, a, zcr, zcq, zct, zcm, zcp = y\n",
    "    \n",
    "    # equations\n",
    "    gamma = (gmax*a)/(Kgamma+a)\n",
    "    ttrate = (cq + cr + cp + ct + cm)*gamma\n",
    "    lam = ttrate/M\n",
    "    vimp = (et*vt*s0/(Kt+s0))\n",
    "    nucat = (em*vm*si/(Km+si))\n",
    "    rmf = nr*(r + cr + cp + ct + cm + cq + zcr + zcp + zct + zcm + zcq) / ( nr*(r + cr + cp + ct + cm + cq + zcr + zcp + zct + zcm + zcq) + nx * (p + q + et + em))\n",
    "\n",
    "    # rhs\n",
    "    dydt = np.zeros(22)\n",
    "    dydt[0] = + (r*mr*kb) - (cr*ku) - (cr*lam) - (cr*gamma)/nr - (f*cr)\n",
    "    dydt[1] = - (lam*em) + (cm*gamma)/nx\n",
    "    dydt[2] = + (r*mp*kb) - (cp*ku) - (cp*lam) - (cp*gamma)/nx - (f*cp)\n",
    "    dydt[3] = + (r*mq*kb) - (cq*ku) - (cq*lam) - (cq*gamma)/nx - (f*cq)\n",
    "    dydt[4] = + (r*mt*kb) - (ct*ku) - (ct*lam) - (ct*gamma)/nx - (f*ct)\n",
    "    dydt[5] = - (lam*et) + (ct*gamma)/nx\n",
    "    dydt[6] = + (r*mm*kb) - (cm*ku) - (cm*lam) - (cm*gamma)/nx - (f*cm)\n",
    "    dydt[7] = + (we*a/(thetax+a)) - mt*(lam+dm) - (r*mt*kb) + (ct*ku) + ((ct*gamma)/nx)\n",
    "    dydt[8] = + (we*a/(thetax+a)) - mm*(lam+dm) - (r*mm*kb) + (cm*ku) + ((cm*gamma)/nx)\n",
    "    dydt[9] = - (lam*q) + (cq*gamma)/nx\n",
    "    dydt[10] = - (lam*p) + (cp*gamma)/nx\n",
    "    dydt[11] = - (lam*si) + vimp - nucat\n",
    "    dydt[12] = + (wq*a/(thetax+a)/(1+(q/Kq)**hq)) - mq*(lam+dm) - (r*mq*kb) + (cq*ku) + (cq*gamma)/nx\n",
    "    dydt[13] = + (wp*a/(thetax+a)) - mp*(lam+dm) - (r*mp*kb) + (cp*ku) + (cp*gamma)/nx\n",
    "    dydt[14] = + (wr*a/(thetar+a)) - mr*(lam+dm)- (r*mr*kb) + (cr*ku) + (cr*gamma)/nr\n",
    "    dydt[15] = - (lam*r) - (r*mr*kb) - (r*mt*kb) - (r*mm*kb) - (r*mq*kb) - (r*mp*kb) + (cr*ku) + (ct*ku) + (cm*ku) + (cq*ku) + (cp*ku) + (cr*gamma)/nr + (cr*gamma)/nr + (ct*gamma)/nx + (cm*gamma)/nx + (cq*gamma)/nx + (cp*gamma)/nx\n",
    "    dydt[16] = + (ns*nucat) - ttrate - (lam*a) # this is the right equation, where did ns come into it? - from 3rd reaction but is on the rhs so wouldn't appear in the ode?\n",
    "    # dydt[17] = + (r*mr*kb) - (cr*ku) - (cr*lam) - (cr*gamma)/nr - (f*cr) - (cr*cl*k_cm)\n",
    "    # dydt[18] = + (r*mq*kb) - (cq*ku) - (cq*lam) - (cq*gamma)/nx - (f*cq) - (cq*cl*k_cm)\n",
    "    # dydt[19] = + (r*mt*kb) - (ct*ku) - (ct*lam) - (ct*gamma)/nx - (f*ct) - (ct*cl*k_cm)\n",
    "    # dydt[20] = + (r*mm*kb) - (cm*ku) - (cm*lam) - (cm*gamma)/nx - (f*cm) - (cm*cl*k_cm)\n",
    "    # dydt[21] = + (r*mp*kb) - (cp*ku) - (cp*lam) - (cp*gamma)/nx - (f*cp) - (cp*cl*k_cm)\n",
    "# these are the wrong equations, look at on monday\n",
    "    return dydt"
   ]
  },
  {
   "cell_type": "code",
   "execution_count": 28,
   "metadata": {},
   "outputs": [],
   "source": [
    "b= 0\n",
    "dm= 0.1\n",
    "kb= 1\n",
    "ku= 1.0\n",
    "f= 0 # also is cl*kcm for later simulations\n",
    "thetar= 426.8693338968694\n",
    "k_cm= 0.005990373118888\n",
    "s0= 1e4\n",
    "gmax= 1260.0\n",
    "# cl= 0\n",
    "thetax= 4.379733394834643\n",
    "Kt= 1.0e3\n",
    "M= 1.0e8\n",
    "we= 4.139172187824451\n",
    "Km= 1.0e3\n",
    "vm= 5800.0\n",
    "nx= 300.0\n",
    "Kq= 1.522190403737490e+05\n",
    "Kp= 180.1378030928276\n",
    "vt= 726.0\n",
    "wr= 929.9678874564831\n",
    "wq= 948.9349882947897\n",
    "wp= 0.0\n",
    "hq= 4\n",
    "nr= 7549.0\n",
    "# ns= 0.5\n",
    "Kgamma = 7\n",
    "params_cl = [b, dm, kb, ku, f, thetar, k_cm, gmax, cl, thetax, Kt, M, we, Km, vm, nx, Kq, Kp, vt, wr, wq, wp, hq, nr, ns, Kgamma]"
   ]
  },
  {
   "cell_type": "code",
   "execution_count": 29,
   "metadata": {},
   "outputs": [],
   "source": [
    "cr_0= 0 # 0\n",
    "em_0= 0 # 1\n",
    "cp_0= 0 # 2\n",
    "cq_0= 0 # 3\n",
    "ct_0= 0 # 4\n",
    "et_0= 0 # 5\n",
    "cm_0= 0 # 6\n",
    "mt_0= 0 # 7\n",
    "mm_0= 0 # 8\n",
    "q_0= 0 # 9\n",
    "p_0= 0 # 10\n",
    "si_0= 0 # 11\n",
    "mq_0= 0 # 12 \n",
    "mp_0= 0 # 13\n",
    "mr_0= 0 # 14 \n",
    "r_0= 10.0 # 15\n",
    "a_0= 1000.0 # 16\n",
    "zcr_0 = 0 # 17\n",
    "zcq_0 = 0 # 18\n",
    "zct_0 = 0 # 19\n",
    "zcm_0 = 0 # 20 \n",
    "zcp_0 = 0 # 21\n",
    "\n",
    "init_cl= [cr_0, em_0, cp_0, cq_0, ct_0, et_0, cm_0, mt_0, mm_0, q_0, p_0, si_0, mq_0, mp_0, mr_0, r_0, a_0, zcr_0, zcq_0, zct_0, zcm_0, zcp_0]\n"
   ]
  },
  {
   "cell_type": "code",
   "execution_count": 55,
   "metadata": {},
   "outputs": [],
   "source": [
    "nut_qual = np.logspace(np.log10(0.08), np.log10(0.5), num=6)\n",
    "chloram = [0, 2, 4, 8, 12]\n",
    "r_mass_frac = []\n",
    "lambdas = []\n",
    "growth_rate = np.arange(0, 0.03)\n",
    "for ns in nut_qual:\n",
    "    for cl in chloram:\n",
    "        nscl = solve_ivp(ns_cl_ode, [t0_m, tf_m], init_ss, args=(params_cl, ns, cl), method='LSODA')\n",
    "        r_1 = nscl.y[15][-1]\n",
    "        cr_1 = nscl.y[0][-1]\n",
    "        cp_1 = nscl.y[2][-1]\n",
    "        ct_1 = nscl.y[4][-1]\n",
    "        cm_1 = nscl.y[6][-1]\n",
    "        cq_1 = nscl.y[3][-1]\n",
    "        zcr_1 = nscl.y[17][-1]\n",
    "        zcp_1 = nscl.y[21][-1]\n",
    "        zct_1 = nscl.y[19][-1]\n",
    "        zcm_1 = nscl.y[20][-1]\n",
    "        zcq_1 = nscl.y[18][-1]\n",
    "        p_1 = nscl.y[10][-1]\n",
    "        q_1 = nscl.y[9][-1]\n",
    "        et_1 = nscl.y[5][-1]\n",
    "        em_1 = nscl.y[1][-1]\n",
    "        a_1 = nscl.y[16][-1]\n",
    "        gamma = (gmax*a_1)/(Kgamma+a_1)\n",
    "        ttrate = (cq_1 + cr_1 + cp_1 + ct_1 + cm_1)*gamma\n",
    "        lam = ttrate/M\n",
    "        rmf = nr*(r_1 + cr_1 + cp_1 + ct_1 + cm_1 + cq_1 + zcr_1 + zcp_1 + zct_1 + zcm_1 + zcq_1) / ( nr*(r_1 + cr_1 + cp_1 + ct_1 + cm_1 + cq_1 + zcr_1 + zcp_1 + zct_1 + zcm_1 + zcq_1) + nx * (p_1 + q_1 + et_1 + em_1))\n",
    "        r_mass_frac.append(rmf)\n",
    "        lambdas.append(lam)"
   ]
  },
  {
   "cell_type": "code",
   "execution_count": 58,
   "metadata": {},
   "outputs": [],
   "source": [
    "r_mass_frac = np.reshape(r_mass_frac, [5,6])\n",
    "lambdas = np.reshape(lambdas, [5,6])\n"
   ]
  },
  {
   "cell_type": "code",
   "execution_count": 59,
   "metadata": {},
   "outputs": [
    {
     "name": "stdout",
     "output_type": "stream",
     "text": [
      "[-1.353992918946732e-18, -1.353992918946732e-18, -1.353992918946732e-18, -1.353992918946732e-18, -1.353992918946732e-18, -1.353992918946732e-18]\n"
     ]
    }
   ],
   "source": [
    "print(list(r_mass_frac[0]))"
   ]
  },
  {
   "cell_type": "code",
   "execution_count": 60,
   "metadata": {},
   "outputs": [
    {
     "data": {
      "text/plain": [
       "[<matplotlib.lines.Line2D at 0x7fc988bac040>,\n",
       " <matplotlib.lines.Line2D at 0x7fc988bac070>,\n",
       " <matplotlib.lines.Line2D at 0x7fc988c4eeb0>,\n",
       " <matplotlib.lines.Line2D at 0x7fc988c4eee0>,\n",
       " <matplotlib.lines.Line2D at 0x7fc988bac2b0>,\n",
       " <matplotlib.lines.Line2D at 0x7fc988bac3d0>]"
      ]
     },
     "execution_count": 60,
     "metadata": {},
     "output_type": "execute_result"
    },
    {
     "data": {
      "image/png": "[encoded data removed]",
      "text/plain": [
       "<Figure size 432x288 with 1 Axes>"
      ]
     },
     "metadata": {
      "needs_background": "light"
     },
     "output_type": "display_data"
    }
   ],
   "source": [
    "plt.plot(lambdas, r_mass_frac)"
   ]
  },
  {
   "cell_type": "code",
   "execution_count": null,
   "metadata": {},
   "outputs": [],
   "source": []
  }
 ],
 "metadata": {
  "kernelspec": {
   "display_name": "Python 3.9.12 ('phd': conda)",
   "language": "python",
   "name": "python3"
  },
  "language_info": {
   "codemirror_mode": {
    "name": "ipython",
    "version": 3
   },
   "file_extension": ".py",
   "mimetype": "text/x-python",
   "name": "python",
   "nbconvert_exporter": "python",
   "pygments_lexer": "ipython3",
   "version": "3.9.12"
  },
  "orig_nbformat": 4,
  "vscode": {
   "interpreter": {
    "hash": "7133d4e188df27fea30ff71cf5ecd3c0df8961322f401482d427b04f022a2d36"
   }
  }
 },
 "nbformat": 4,
 "nbformat_minor": 2
}
