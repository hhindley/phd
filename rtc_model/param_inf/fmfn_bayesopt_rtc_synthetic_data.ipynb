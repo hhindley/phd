{
  "nbformat": 4,
  "nbformat_minor": 0,
  "metadata": {
    "colab": {
      "provenance": [],
      "collapsed_sections": [],
      "authorship_tag": "ABX9TyPVUcQf97bjI27XXZn3ffia",
      "include_colab_link": true
    },
    "kernelspec": {
      "name": "python3",
      "display_name": "Python 3"
    },
    "language_info": {
      "name": "python"
    }
  },
  "cells": [
    {
      "cell_type": "markdown",
      "metadata": {
        "id": "view-in-github",
        "colab_type": "text"
      },
      "source": [
        "<a href=\"https://colab.research.google.com/github/hhindley/phd/blob/main/colab_notebooks/fmfn_bayesopt_rtc_synthetic_data.ipynb\" target=\"_parent\"><img src=\"https://colab.research.google.com/assets/colab-badge.svg\" alt=\"Open In Colab\"/></a>"
      ]
    },
    {
      "cell_type": "code",
      "source": [
        "ffrom google.colab import drive\n",
        "drive.mount('/content/drive', force_remount=True)"
      ],
      "metadata": {
        "colab": {
          "base_uri": "https://localhost:8080/"
        },
        "id": "dpZ9XA7ofhVE",
        "outputId": "2b3eccc6-6b64-4318-85e6-4cc6d2b0803e"
      },
      "execution_count": null,
      "outputs": [
        {
          "output_type": "stream",
          "name": "stdout",
          "text": [
            "Mounted at /content/drive\n"
          ]
        }
      ]
    },
    {
      "cell_type": "code",
      "execution_count": null,
      "metadata": {
        "colab": {
          "base_uri": "https://localhost:8080/"
        },
        "id": "FipK9HKDAV3X",
        "outputId": "8acad927-b165-4384-c4a4-0740606bc020",
        "collapsed": true
      },
      "outputs": [
        {
          "output_type": "stream",
          "name": "stdout",
          "text": [
            "Looking in indexes: https://pypi.org/simple, https://us-python.pkg.dev/colab-wheels/public/simple/\n",
            "Collecting bayesian-optimization\n",
            "  Downloading bayesian_optimization-1.3.0-py3-none-any.whl (16 kB)\n",
            "Requirement already satisfied: scikit-learn>=0.18.0 in /usr/local/lib/python3.7/dist-packages (from bayesian-optimization) (1.0.2)\n",
            "Requirement already satisfied: numpy>=1.9.0 in /usr/local/lib/python3.7/dist-packages (from bayesian-optimization) (1.21.6)\n",
            "Requirement already satisfied: scipy>=1.0.0 in /usr/local/lib/python3.7/dist-packages (from bayesian-optimization) (1.7.3)\n",
            "Requirement already satisfied: joblib>=0.11 in /usr/local/lib/python3.7/dist-packages (from scikit-learn>=0.18.0->bayesian-optimization) (1.2.0)\n",
            "Requirement already satisfied: threadpoolctl>=2.0.0 in /usr/local/lib/python3.7/dist-packages (from scikit-learn>=0.18.0->bayesian-optimization) (3.1.0)\n",
            "Installing collected packages: bayesian-optimization\n",
            "Successfully installed bayesian-optimization-1.3.0\n"
          ]
        }
      ],
      "source": [
        "!pip install bayesian-optimization\n",
        "# !pip install scipy==1.7.3\n",
        "from bayes_opt import BayesianOptimization\n",
        "from bayes_opt import UtilityFunction\n",
        "import numpy as np\n",
        "import matplotlib.pyplot as plt\n",
        "from matplotlib import gridspec\n",
        "import pandas as pd\n",
        "from scipy.integrate import odeint\n",
        "from scipy.integrate import ode\n",
        "from scipy.integrate import solve_ivp\n",
        "from pandas import DataFrame\n",
        "import time"
      ]
    },
    {
      "cell_type": "markdown",
      "source": [
        "Model code"
      ],
      "metadata": {
        "id": "v4m-wU0iDHwe"
      }
    },
    {
      "cell_type": "code",
      "source": [
        "#@title\n",
        "def model(t, y, params):\n",
        "  L, c, kr, Vmax_init, Km_init, w_ab, w_r, θ, max, thr, K1_tag, K2_tag, K1_rep, K2_rep, gr_c, d, krep, kdam, ktag, kdeg, kin, atp = params\n",
        "  \n",
        "  rm_a, rtca, rm_b, rtcb, rm_r, rtcr, rh, rd, rt = y\n",
        "\n",
        "  dydt = np.zeros(9)\n",
        "\n",
        "    # growth rate\n",
        "  lam = gr_c*rh\n",
        "  \n",
        "  # dilution by growth and degradation \n",
        "  def dil(species):\n",
        "    growth = lam*species\n",
        "    return growth\n",
        "  def deg(species):\n",
        "    deg = d*species\n",
        "    return deg\n",
        "  \n",
        "  # MWC\n",
        "  alpha = rt/kr \n",
        "  fa = (1+alpha)**6/(L*((1+c*alpha)**6)+(1+alpha)**6)\n",
        "  ra = fa*rtcr\n",
        "  \n",
        "  # transcription \n",
        "  Vinit = ra*Vmax_init*atp/(Km_init+atp)\n",
        "  tscr_el_ab = w_ab*atp/(θ+atp)\n",
        "  tscr_ab = Vinit*tscr_el_ab\n",
        "  tscr_r = w_r*atp/(θ+atp)\n",
        "\n",
        "  # translation\n",
        "  tlr_el = max*atp/(thr+atp)\n",
        "  def tlr(rm_x):\n",
        "    tlr = rh*rm_x*tlr_el\n",
        "    return tlr\n",
        "\n",
        "  # ribosomes\n",
        "  rdrtca = rtca*rd/(K1_tag+rd+K2_tag*atp)\n",
        "  rtrtcb = rtcb*rt/(K1_rep+rt+K2_rep*atp)\n",
        "  Vrep = krep*rtrtcb*atp\n",
        "  Vdam = kdam*rh\n",
        "  Vinflux = kin*tlr_el #lam*rh\n",
        "  Vtag = ktag*rdrtca*atp\n",
        "\n",
        "  # ODEs\n",
        "  dydt[0] = tscr_ab - dil(rm_a) - deg(rm_a)\n",
        "  dydt[1] = tlr(rm_a) - dil(rtca)    \n",
        "  dydt[2] = tscr_ab - dil(rm_b) - deg(rm_b)\n",
        "  dydt[3] = tlr(rm_b) - dil(rtcb)\n",
        "  dydt[4] = tscr_r - dil(rm_r) - deg(rm_r)\n",
        "  dydt[5] = tlr(rm_r) - dil(rtcr)\n",
        "  dydt[6] = Vrep - Vdam + Vinflux - dil(rh)\n",
        "  dydt[7] = Vdam - Vtag - kdeg*rd - dil(rd)\n",
        "  dydt[8] = Vtag - Vrep - dil(rt)\n",
        "\n",
        "  return dydt"
      ],
      "metadata": {
        "id": "KHuUdb6qCNYP",
        "cellView": "form"
      },
      "execution_count": null,
      "outputs": []
    },
    {
      "cell_type": "code",
      "source": [
        "L = 100; c = 0.01; kr = 10; Vmax_init = 5; Km_init = 55.829; w_r = 4.14; \n",
        "θ = 20; max = 4; thr = 20; gr_c = 0.01; \n",
        "d = 0.01; krep = 1;  kdam = 0.05; ktag = 1; kdeg = 0.001; kin = 0.4; atp = 10;\n",
        "K1_tag = 1; K2_tag = 10; K1_rep = 1; K2_rep = 10; \n",
        "# w_ab = 4.14;\n",
        "\n",
        "rm_a_0 = 0; rtca_0 = 1; rm_b_0 = 0; rtcb_0 = 1; rm_r_0 = 0; rtcr_0 = 0;\n",
        "rh_0 = 10; rd_0 = 0; rt_0 = 0;\n",
        "\n",
        "# params = [L, c, kr, Vmax_init, Km_init, w_ab, w_r, θ, max, thr, K1_tag, K2_tag, K1_rep, K2_rep, gr_c, d, krep, kdam, ktag, kdeg, kin, atp]\n",
        "init = [rm_a_0, rtca_0, rm_b_0, rtcb_0, rm_r_0, rtcr_0, rh_0, rd_0, rt_0]\n",
        "t0 = 0\n",
        "tf = 100"
      ],
      "metadata": {
        "id": "EPBt5zQBDPbL"
      },
      "execution_count": null,
      "outputs": []
    },
    {
      "cell_type": "markdown",
      "source": [
        "Solve a specific number of times and compare all time points solved"
      ],
      "metadata": {
        "id": "MSoL_T67sM3r"
      }
    },
    {
      "cell_type": "code",
      "source": [
        "t = np.logspace(-3, 2, 14)\n",
        "t = np.insert(t, 0, 0, axis=0)\n",
        "sol_syn = solve_ivp(model, [t0, tf], init, args=([L, c, kr, Vmax_init, Km_init, 4.14, w_r, θ, max, thr, K1_tag, K2_tag, K1_rep, K2_rep, gr_c, d, krep, kdam, ktag, kdeg, kin, atp],), method='Radau', t_eval=t)\n",
        "sol_syn1 = solve_ivp(model, [t0, tf], init, args=([L, c, kr, Vmax_init, Km_init, 4.14, w_r, θ, max, thr, K1_tag, K2_tag, K1_rep, K2_rep, gr_c, d, krep, kdam, ktag, kdeg, kin, atp],), method='Radau') # normal solving"
      ],
      "metadata": {
        "id": "zXpU-nwlnuBF"
      },
      "execution_count": null,
      "outputs": []
    },
    {
      "cell_type": "code",
      "source": [
        "np.set_printoptions(suppress = True)\n",
        "t"
      ],
      "metadata": {
        "colab": {
          "base_uri": "https://localhost:8080/"
        },
        "id": "QShhoQHbBTZq",
        "outputId": "14da2daf-c381-4e88-f307-e6d3dca47442"
      },
      "execution_count": null,
      "outputs": [
        {
          "output_type": "execute_result",
          "data": {
            "text/plain": [
              "array([  0.        ,   0.001     ,   0.00242446,   0.00587802,\n",
              "         0.01425103,   0.03455107,   0.08376776,   0.20309176,\n",
              "         0.49238826,   1.19377664,   2.89426612,   7.01703829,\n",
              "        17.0125428 ,  41.24626383, 100.        ])"
            ]
          },
          "metadata": {},
          "execution_count": 9
        }
      ]
    },
    {
      "cell_type": "code",
      "source": [
        "np.set_printoptions(suppress = True)\n",
        "print(sol_syn.t)"
      ],
      "metadata": {
        "colab": {
          "base_uri": "https://localhost:8080/"
        },
        "id": "5_JVnaPEN3oB",
        "outputId": "55c4e587-dc24-4445-d69f-452871f5a567"
      },
      "execution_count": null,
      "outputs": [
        {
          "output_type": "stream",
          "name": "stdout",
          "text": [
            "[  0.           0.001        0.00242446   0.00587802   0.01425103\n",
            "   0.03455107   0.08376776   0.20309176   0.49238826   1.19377664\n",
            "   2.89426612   7.01703829  17.0125428   41.24626383 100.        ]\n"
          ]
        }
      ]
    },
    {
      "cell_type": "code",
      "source": [
        "print('Time points taken to solve:', len(sol_syn.t))\n",
        "species = ['rm_a', 'rtca', 'rm_b', 'rtcb', 'rm_r', 'rtcr', 'rh', 'rd', 'rt']\n",
        "plt.figure(figsize=(10,6))\n",
        "\n",
        "for i in range(sol_syn.y.shape[0]):\n",
        "    plt.plot(sol_syn.t, sol_syn.y[i], label=species[i])\n",
        "plt.xlabel('$t$') \n",
        "plt.legend() \n",
        "plt.yscale('log')\n",
        "plt.xscale('log')\n",
        "plt.ylim(1,1e5)\n",
        "plt.xlim(1,100)\n",
        "plt.legend(loc='upper right')\n",
        "plt.title('Solving for certain number of log-spaced time points')\n",
        "plt.show()"
      ],
      "metadata": {
        "colab": {
          "base_uri": "https://localhost:8080/",
          "height": 428
        },
        "id": "imEIIfb5CCnG",
        "outputId": "8a5853d4-0be2-44d6-ceff-29f4af6705df"
      },
      "execution_count": null,
      "outputs": [
        {
          "output_type": "stream",
          "name": "stdout",
          "text": [
            "Time points taken to solve: 15\n"
          ]
        },
        {
          "output_type": "display_data",
          "data": {
            "text/plain": [
              "<Figure size 720x432 with 1 Axes>"
            ],
            "image/png": "[encoded data removed]"
          },
          "metadata": {
            "needs_background": "light"
          }
        }
      ]
    },
    {
      "cell_type": "code",
      "source": [
        "print('Time points taken to solve:', len(sol_syn1.t))\n",
        "species = ['rm_a', 'rtca', 'rm_b', 'rtcb', 'rm_r', 'rtcr', 'rh', 'rd', 'rt']\n",
        "plt.figure(figsize=(10,6))\n",
        "\n",
        "for i in range(sol_syn1.y.shape[0]):\n",
        "    plt.plot(sol_syn1.t, sol_syn1.y[i], label=species[i])\n",
        "plt.xlabel('$t$') \n",
        "plt.legend() \n",
        "plt.yscale('log')\n",
        "plt.xscale('log')\n",
        "plt.ylim(1,1e5)\n",
        "plt.xlim(1,100)\n",
        "plt.legend(loc='upper right')\n",
        "plt.title('Normal solving without specifying timepoints')\n",
        "plt.show()"
      ],
      "metadata": {
        "colab": {
          "base_uri": "https://localhost:8080/",
          "height": 428
        },
        "id": "wZfWv0NfZQDw",
        "outputId": "4937326d-6fed-457d-c9ed-894092a1ec68"
      },
      "execution_count": null,
      "outputs": [
        {
          "output_type": "stream",
          "name": "stdout",
          "text": [
            "Time points taken to solve: 44\n"
          ]
        },
        {
          "output_type": "display_data",
          "data": {
            "text/plain": [
              "<Figure size 720x432 with 1 Axes>"
            ],
            "image/png": "[encoded data removed]"
          },
          "metadata": {
            "needs_background": "light"
          }
        }
      ]
    },
    {
      "cell_type": "markdown",
      "source": [
        "Synthetic data try"
      ],
      "metadata": {
        "id": "VNz77BT8Ycxl"
      }
    },
    {
      "cell_type": "code",
      "source": [
        "param_range = {'w_ab': (0, 50)}#,'K1_tag': (0.9, 1.1), 'K2_tag': (9.9, 10.1), 'K1_rep': (0.9, 1.1), 'K2_rep': (9.9, 10.1)}"
      ],
      "metadata": {
        "id": "DznRasR7Dnbz"
      },
      "execution_count": null,
      "outputs": []
    },
    {
      "cell_type": "code",
      "source": [
        "def func_syn(w_ab):\n",
        "  sol = solve_ivp(model, [t0, tf], init, args=([L, c, kr, Vmax_init, Km_init, w_ab, w_r, θ, max, thr, K1_tag, K2_tag, K1_rep, K2_rep, gr_c, d, krep, kdam, ktag, kdeg, kin, atp],), method='Radau', t_eval=t)\n",
        "  obj=[]\n",
        "  for i, j in zip(sol.y[1], sol_syn.y[1]):\n",
        "    obj.append(np.square(i-j))\n",
        "\n",
        "  return -np.sum(obj) "
      ],
      "metadata": {
        "id": "tV5QgeODYfFu"
      },
      "execution_count": null,
      "outputs": []
    },
    {
      "cell_type": "code",
      "source": [
        "# m = []\n",
        "optimizer = BayesianOptimization(func_syn, param_range, random_state=27, verbose=2) # verbose = 1 prints only when a maximum is observed (pink)\n",
        "start = time.time()\n",
        "optimizer.maximize(init_points=2, n_iter=10, acq='ucb', kappa=1)\n",
        "end = time.time()\n",
        "print(end-start, \"seconds\")"
      ],
      "metadata": {
        "colab": {
          "base_uri": "https://localhost:8080/"
        },
        "id": "NibhCM3pa1IK",
        "outputId": "61d1355b-886d-4d7f-ab9e-6cb57c60f41f"
      },
      "execution_count": null,
      "outputs": [
        {
          "output_type": "stream",
          "name": "stdout",
          "text": [
            "|   iter    |  target   |   w_ab    |\n",
            "-------------------------------------\n",
            "| \u001b[0m1        \u001b[0m | \u001b[0m-2.478e+1\u001b[0m | \u001b[0m21.29    \u001b[0m |\n",
            "| \u001b[0m2        \u001b[0m | \u001b[0m-1.128e+1\u001b[0m | \u001b[0m40.73    \u001b[0m |\n",
            "| \u001b[0m3        \u001b[0m | \u001b[0m-2.684e+1\u001b[0m | \u001b[0m21.99    \u001b[0m |\n",
            "| \u001b[95m4        \u001b[0m | \u001b[95m-9.671e+0\u001b[0m | \u001b[95m7.527    \u001b[0m |\n",
            "| \u001b[0m5        \u001b[0m | \u001b[0m-1.445e+0\u001b[0m | \u001b[0m0.0      \u001b[0m |\n",
            "| \u001b[95m6        \u001b[0m | \u001b[95m-6.202e+0\u001b[0m | \u001b[95m3.869    \u001b[0m |\n",
            "| \u001b[0m7        \u001b[0m | \u001b[0m-4.186e+0\u001b[0m | \u001b[0m4.845    \u001b[0m |\n",
            "| \u001b[95m8        \u001b[0m | \u001b[95m-4.044e+0\u001b[0m | \u001b[95m4.071    \u001b[0m |\n",
            "| \u001b[95m9        \u001b[0m | \u001b[95m-2.089e+0\u001b[0m | \u001b[95m4.135    \u001b[0m |\n",
            "| \u001b[0m10       \u001b[0m | \u001b[0m-3.778e+0\u001b[0m | \u001b[0m4.161    \u001b[0m |\n",
            "| \u001b[0m11       \u001b[0m | \u001b[0m-9.613e+0\u001b[0m | \u001b[0m4.174    \u001b[0m |\n",
            "| \u001b[0m12       \u001b[0m | \u001b[0m-1.285e+0\u001b[0m | \u001b[0m4.179    \u001b[0m |\n",
            "=====================================\n",
            "2.2459206581115723 seconds\n"
          ]
        }
      ]
    },
    {
      "cell_type": "code",
      "source": [],
      "metadata": {
        "colab": {
          "base_uri": "https://localhost:8080/"
        },
        "id": "CivkE59cDd80",
        "outputId": "9d6f3e36-4250-4f04-f457-9d03eb79f596"
      },
      "execution_count": null,
      "outputs": [
        {
          "output_type": "stream",
          "name": "stdout",
          "text": [
            "2.252318859100342 seconds\n"
          ]
        }
      ]
    },
    {
      "cell_type": "code",
      "source": [
        "# optimizer.maximize(init_points=2, n_iter=10, acq='ucb', kappa=2)"
      ],
      "metadata": {
        "id": "XtxWHstpokCg"
      },
      "execution_count": null,
      "outputs": []
    },
    {
      "cell_type": "code",
      "source": [
        "print(optimizer.max)"
      ],
      "metadata": {
        "colab": {
          "base_uri": "https://localhost:8080/"
        },
        "id": "I3HyAbWGTvwr",
        "outputId": "c1f26770-0180-4e01-c642-9696ccc3aabc"
      },
      "execution_count": null,
      "outputs": [
        {
          "output_type": "stream",
          "name": "stdout",
          "text": [
            "{'target': -2088.7952556803875, 'params': {'w_ab': 4.135043995045719}}\n"
          ]
        }
      ]
    },
    {
      "cell_type": "code",
      "source": [
        "# plotting error\n",
        "print(\"Best result: {}; f(x) = {:.3f}.\".format(optimizer.max[\"params\"], optimizer.max[\"target\"]))\n",
        "plt.figure(figsize = (15, 5))\n",
        "plt.plot(range(1, 1 + len(optimizer.space.target)), -optimizer.space.target, \"-o\")\n",
        "plt.grid(True)\n",
        "plt.xlabel(\"Iteration\", fontsize = 14)\n",
        "plt.ylabel(\"Error\", fontsize = 14)\n",
        "plt.xticks(fontsize = 14)\n",
        "plt.yticks(fontsize = 14)\n",
        "plt.show()"
      ],
      "metadata": {
        "colab": {
          "base_uri": "https://localhost:8080/",
          "height": 371
        },
        "id": "NfTEhKZZ8crL",
        "outputId": "a5877af3-d0c2-49ed-8c08-a08b0c37e0a0"
      },
      "execution_count": null,
      "outputs": [
        {
          "output_type": "stream",
          "name": "stdout",
          "text": [
            "Best result: {'w_ab': 4.140643872027786}; f(x) = -34.920.\n"
          ]
        },
        {
          "output_type": "display_data",
          "data": {
            "text/plain": [
              "<Figure size 1080x360 with 1 Axes>"
            ],
            "image/png": "[encoded data removed]"
          },
          "metadata": {
            "needs_background": "light"
          }
        }
      ]
    },
    {
      "cell_type": "code",
      "source": [
        "df = pd.json_normalize(optimizer.res)\n",
        "df.rename(columns={'params.w_ab':'w_ab'}, inplace=True)#{'params.K1_rep': 'K1_rep', 'params.K2_rep': 'K2_rep', 'params.K1_tag': 'K1_tag', 'params.K2_tag': 'K2_tag', 'params.w_ab': 'w_ab'}, inplace=True)\n",
        "df"
      ],
      "metadata": {
        "colab": {
          "base_uri": "https://localhost:8080/",
          "height": 426
        },
        "id": "4No5Xsi2bM5y",
        "outputId": "1f71dd1e-86ed-49f5-9283-545bb7e0d970"
      },
      "execution_count": null,
      "outputs": [
        {
          "output_type": "execute_result",
          "data": {
            "text/plain": [
              "          target      w_ab\n",
              "0  -1.157905e+06  4.257214\n",
              "1  -1.352370e+09  8.145837\n",
              "2  -5.005242e+06  4.383731\n",
              "3  -7.351708e+08  1.186422\n",
              "4  -2.330041e+07  3.614208\n",
              "5  -1.661996e+06  3.999596\n",
              "6  -5.663239e+01  4.139199\n",
              "7  -7.198988e+01  4.140923\n",
              "8  -8.552038e+01  4.141006\n",
              "9  -7.197582e+01  4.140923\n",
              "10 -5.344816e+01  4.140796\n",
              "11 -3.492041e+01  4.140644"
            ],
            "text/html": [
              "\n",
              "  <div id=\"df-6cafca8b-ae25-421c-9e06-d344c8571ea4\">\n",
              "    <div class=\"colab-df-container\">\n",
              "      <div>\n",
              "<style scoped>\n",
              "    .dataframe tbody tr th:only-of-type {\n",
              "        vertical-align: middle;\n",
              "    }\n",
              "\n",
              "    .dataframe tbody tr th {\n",
              "        vertical-align: top;\n",
              "    }\n",
              "\n",
              "    .dataframe thead th {\n",
              "        text-align: right;\n",
              "    }\n",
              "</style>\n",
              "<table border=\"1\" class=\"dataframe\">\n",
              "  <thead>\n",
              "    <tr style=\"text-align: right;\">\n",
              "      <th></th>\n",
              "      <th>target</th>\n",
              "      <th>w_ab</th>\n",
              "    </tr>\n",
              "  </thead>\n",
              "  <tbody>\n",
              "    <tr>\n",
              "      <th>0</th>\n",
              "      <td>-1.157905e+06</td>\n",
              "      <td>4.257214</td>\n",
              "    </tr>\n",
              "    <tr>\n",
              "      <th>1</th>\n",
              "      <td>-1.352370e+09</td>\n",
              "      <td>8.145837</td>\n",
              "    </tr>\n",
              "    <tr>\n",
              "      <th>2</th>\n",
              "      <td>-5.005242e+06</td>\n",
              "      <td>4.383731</td>\n",
              "    </tr>\n",
              "    <tr>\n",
              "      <th>3</th>\n",
              "      <td>-7.351708e+08</td>\n",
              "      <td>1.186422</td>\n",
              "    </tr>\n",
              "    <tr>\n",
              "      <th>4</th>\n",
              "      <td>-2.330041e+07</td>\n",
              "      <td>3.614208</td>\n",
              "    </tr>\n",
              "    <tr>\n",
              "      <th>5</th>\n",
              "      <td>-1.661996e+06</td>\n",
              "      <td>3.999596</td>\n",
              "    </tr>\n",
              "    <tr>\n",
              "      <th>6</th>\n",
              "      <td>-5.663239e+01</td>\n",
              "      <td>4.139199</td>\n",
              "    </tr>\n",
              "    <tr>\n",
              "      <th>7</th>\n",
              "      <td>-7.198988e+01</td>\n",
              "      <td>4.140923</td>\n",
              "    </tr>\n",
              "    <tr>\n",
              "      <th>8</th>\n",
              "      <td>-8.552038e+01</td>\n",
              "      <td>4.141006</td>\n",
              "    </tr>\n",
              "    <tr>\n",
              "      <th>9</th>\n",
              "      <td>-7.197582e+01</td>\n",
              "      <td>4.140923</td>\n",
              "    </tr>\n",
              "    <tr>\n",
              "      <th>10</th>\n",
              "      <td>-5.344816e+01</td>\n",
              "      <td>4.140796</td>\n",
              "    </tr>\n",
              "    <tr>\n",
              "      <th>11</th>\n",
              "      <td>-3.492041e+01</td>\n",
              "      <td>4.140644</td>\n",
              "    </tr>\n",
              "  </tbody>\n",
              "</table>\n",
              "</div>\n",
              "      <button class=\"colab-df-convert\" onclick=\"convertToInteractive('df-6cafca8b-ae25-421c-9e06-d344c8571ea4')\"\n",
              "              title=\"Convert this dataframe to an interactive table.\"\n",
              "              style=\"display:none;\">\n",
              "        \n",
              "  <svg xmlns=\"http://www.w3.org/2000/svg\" height=\"24px\"viewBox=\"0 0 24 24\"\n",
              "       width=\"24px\">\n",
              "    <path d=\"M0 0h24v24H0V0z\" fill=\"none\"/>\n",
              "    <path d=\"M18.56 5.44l.94 2.06.94-2.06 2.06-.94-2.06-.94-.94-2.06-.94 2.06-2.06.94zm-11 1L8.5 8.5l.94-2.06 2.06-.94-2.06-.94L8.5 2.5l-.94 2.06-2.06.94zm10 10l.94 2.06.94-2.06 2.06-.94-2.06-.94-.94-2.06-.94 2.06-2.06.94z\"/><path d=\"M17.41 7.96l-1.37-1.37c-.4-.4-.92-.59-1.43-.59-.52 0-1.04.2-1.43.59L10.3 9.45l-7.72 7.72c-.78.78-.78 2.05 0 2.83L4 21.41c.39.39.9.59 1.41.59.51 0 1.02-.2 1.41-.59l7.78-7.78 2.81-2.81c.8-.78.8-2.07 0-2.86zM5.41 20L4 18.59l7.72-7.72 1.47 1.35L5.41 20z\"/>\n",
              "  </svg>\n",
              "      </button>\n",
              "      \n",
              "  <style>\n",
              "    .colab-df-container {\n",
              "      display:flex;\n",
              "      flex-wrap:wrap;\n",
              "      gap: 12px;\n",
              "    }\n",
              "\n",
              "    .colab-df-convert {\n",
              "      background-color: #E8F0FE;\n",
              "      border: none;\n",
              "      border-radius: 50%;\n",
              "      cursor: pointer;\n",
              "      display: none;\n",
              "      fill: #1967D2;\n",
              "      height: 32px;\n",
              "      padding: 0 0 0 0;\n",
              "      width: 32px;\n",
              "    }\n",
              "\n",
              "    .colab-df-convert:hover {\n",
              "      background-color: #E2EBFA;\n",
              "      box-shadow: 0px 1px 2px rgba(60, 64, 67, 0.3), 0px 1px 3px 1px rgba(60, 64, 67, 0.15);\n",
              "      fill: #174EA6;\n",
              "    }\n",
              "\n",
              "    [theme=dark] .colab-df-convert {\n",
              "      background-color: #3B4455;\n",
              "      fill: #D2E3FC;\n",
              "    }\n",
              "\n",
              "    [theme=dark] .colab-df-convert:hover {\n",
              "      background-color: #434B5C;\n",
              "      box-shadow: 0px 1px 3px 1px rgba(0, 0, 0, 0.15);\n",
              "      filter: drop-shadow(0px 1px 2px rgba(0, 0, 0, 0.3));\n",
              "      fill: #FFFFFF;\n",
              "    }\n",
              "  </style>\n",
              "\n",
              "      <script>\n",
              "        const buttonEl =\n",
              "          document.querySelector('#df-6cafca8b-ae25-421c-9e06-d344c8571ea4 button.colab-df-convert');\n",
              "        buttonEl.style.display =\n",
              "          google.colab.kernel.accessAllowed ? 'block' : 'none';\n",
              "\n",
              "        async function convertToInteractive(key) {\n",
              "          const element = document.querySelector('#df-6cafca8b-ae25-421c-9e06-d344c8571ea4');\n",
              "          const dataTable =\n",
              "            await google.colab.kernel.invokeFunction('convertToInteractive',\n",
              "                                                     [key], {});\n",
              "          if (!dataTable) return;\n",
              "\n",
              "          const docLinkHtml = 'Like what you see? Visit the ' +\n",
              "            '<a target=\"_blank\" href=https://colab.research.google.com/notebooks/data_table.ipynb>data table notebook</a>'\n",
              "            + ' to learn more about interactive tables.';\n",
              "          element.innerHTML = '';\n",
              "          dataTable['output_type'] = 'display_data';\n",
              "          await google.colab.output.renderOutput(dataTable, element);\n",
              "          const docLink = document.createElement('div');\n",
              "          docLink.innerHTML = docLinkHtml;\n",
              "          element.appendChild(docLink);\n",
              "        }\n",
              "      </script>\n",
              "    </div>\n",
              "  </div>\n",
              "  "
            ]
          },
          "metadata": {},
          "execution_count": 43
        }
      ]
    },
    {
      "cell_type": "code",
      "source": [
        "df.w_ab"
      ],
      "metadata": {
        "colab": {
          "base_uri": "https://localhost:8080/"
        },
        "id": "Iqh6wcNCMWFL",
        "outputId": "a7678901-d33e-44af-d0cd-bf9a649aef74"
      },
      "execution_count": null,
      "outputs": [
        {
          "output_type": "execute_result",
          "data": {
            "text/plain": [
              "0     4.257214\n",
              "1     8.145837\n",
              "2     4.383731\n",
              "3     1.186422\n",
              "4     3.614208\n",
              "5     3.999596\n",
              "6     4.139199\n",
              "7     4.140923\n",
              "8     4.141006\n",
              "9     4.140923\n",
              "10    4.140796\n",
              "11    4.140644\n",
              "Name: w_ab, dtype: float64"
            ]
          },
          "metadata": {},
          "execution_count": 44
        }
      ]
    },
    {
      "cell_type": "code",
      "source": [
        "plt.scatter(df.w_ab, -df.target)"
      ],
      "metadata": {
        "colab": {
          "base_uri": "https://localhost:8080/",
          "height": 294
        },
        "id": "x3qrWgg8L9vo",
        "outputId": "c3f19563-2f94-4453-8530-ec4b9c44d987"
      },
      "execution_count": null,
      "outputs": [
        {
          "output_type": "execute_result",
          "data": {
            "text/plain": [
              "<matplotlib.collections.PathCollection at 0x7fea03395450>"
            ]
          },
          "metadata": {},
          "execution_count": 45
        },
        {
          "output_type": "display_data",
          "data": {
            "text/plain": [
              "<Figure size 432x288 with 1 Axes>"
            ],
            "image/png": "[encoded data removed]"
          },
          "metadata": {
            "needs_background": "light"
          }
        }
      ]
    },
    {
      "cell_type": "code",
      "source": [
        "fig, ax = plt.subplots(2,3, figsize=(20,12))\n",
        "ax[0,0].scatter(df.K1_rep, -df.target)\n",
        "ax[1,0].scatter(df.K2_rep, -df.target)\n",
        "ax[0,1].scatter(df.K1_tag, -df.target)\n",
        "ax[1,1].scatter(df.K2_tag, -df.target)\n",
        "ax[0,2].scatter(df.w_ab, -df.target)"
      ],
      "metadata": {
        "colab": {
          "base_uri": "https://localhost:8080/",
          "height": 1000
        },
        "id": "7id0Kz41axho",
        "outputId": "bae3f721-357d-4019-ae99-c231d8dbf2ae"
      },
      "execution_count": null,
      "outputs": [
        {
          "output_type": "error",
          "ename": "AttributeError",
          "evalue": "ignored",
          "traceback": [
            "\u001b[0;31m---------------------------------------------------------------------------\u001b[0m",
            "\u001b[0;31mAttributeError\u001b[0m                            Traceback (most recent call last)",
            "\u001b[0;32m<ipython-input-57-7464e41adbd3>\u001b[0m in \u001b[0;36m<module>\u001b[0;34m\u001b[0m\n\u001b[1;32m      1\u001b[0m \u001b[0mfig\u001b[0m\u001b[0;34m,\u001b[0m \u001b[0max\u001b[0m \u001b[0;34m=\u001b[0m \u001b[0mplt\u001b[0m\u001b[0;34m.\u001b[0m\u001b[0msubplots\u001b[0m\u001b[0;34m(\u001b[0m\u001b[0;36m2\u001b[0m\u001b[0;34m,\u001b[0m\u001b[0;36m3\u001b[0m\u001b[0;34m,\u001b[0m \u001b[0mfigsize\u001b[0m\u001b[0;34m=\u001b[0m\u001b[0;34m(\u001b[0m\u001b[0;36m20\u001b[0m\u001b[0;34m,\u001b[0m\u001b[0;36m12\u001b[0m\u001b[0;34m)\u001b[0m\u001b[0;34m)\u001b[0m\u001b[0;34m\u001b[0m\u001b[0;34m\u001b[0m\u001b[0m\n\u001b[0;32m----> 2\u001b[0;31m \u001b[0max\u001b[0m\u001b[0;34m[\u001b[0m\u001b[0;36m0\u001b[0m\u001b[0;34m,\u001b[0m\u001b[0;36m0\u001b[0m\u001b[0;34m]\u001b[0m\u001b[0;34m.\u001b[0m\u001b[0mscatter\u001b[0m\u001b[0;34m(\u001b[0m\u001b[0mdf\u001b[0m\u001b[0;34m.\u001b[0m\u001b[0mK1_rep\u001b[0m\u001b[0;34m,\u001b[0m \u001b[0;34m-\u001b[0m\u001b[0mdf\u001b[0m\u001b[0;34m.\u001b[0m\u001b[0mtarget\u001b[0m\u001b[0;34m)\u001b[0m\u001b[0;34m\u001b[0m\u001b[0;34m\u001b[0m\u001b[0m\n\u001b[0m\u001b[1;32m      3\u001b[0m \u001b[0max\u001b[0m\u001b[0;34m[\u001b[0m\u001b[0;36m1\u001b[0m\u001b[0;34m,\u001b[0m\u001b[0;36m0\u001b[0m\u001b[0;34m]\u001b[0m\u001b[0;34m.\u001b[0m\u001b[0mscatter\u001b[0m\u001b[0;34m(\u001b[0m\u001b[0mdf\u001b[0m\u001b[0;34m.\u001b[0m\u001b[0mK2_rep\u001b[0m\u001b[0;34m,\u001b[0m \u001b[0;34m-\u001b[0m\u001b[0mdf\u001b[0m\u001b[0;34m.\u001b[0m\u001b[0mtarget\u001b[0m\u001b[0;34m)\u001b[0m\u001b[0;34m\u001b[0m\u001b[0;34m\u001b[0m\u001b[0m\n\u001b[1;32m      4\u001b[0m \u001b[0max\u001b[0m\u001b[0;34m[\u001b[0m\u001b[0;36m0\u001b[0m\u001b[0;34m,\u001b[0m\u001b[0;36m1\u001b[0m\u001b[0;34m]\u001b[0m\u001b[0;34m.\u001b[0m\u001b[0mscatter\u001b[0m\u001b[0;34m(\u001b[0m\u001b[0mdf\u001b[0m\u001b[0;34m.\u001b[0m\u001b[0mK1_tag\u001b[0m\u001b[0;34m,\u001b[0m \u001b[0;34m-\u001b[0m\u001b[0mdf\u001b[0m\u001b[0;34m.\u001b[0m\u001b[0mtarget\u001b[0m\u001b[0;34m)\u001b[0m\u001b[0;34m\u001b[0m\u001b[0;34m\u001b[0m\u001b[0m\n\u001b[1;32m      5\u001b[0m \u001b[0max\u001b[0m\u001b[0;34m[\u001b[0m\u001b[0;36m1\u001b[0m\u001b[0;34m,\u001b[0m\u001b[0;36m1\u001b[0m\u001b[0;34m]\u001b[0m\u001b[0;34m.\u001b[0m\u001b[0mscatter\u001b[0m\u001b[0;34m(\u001b[0m\u001b[0mdf\u001b[0m\u001b[0;34m.\u001b[0m\u001b[0mK2_tag\u001b[0m\u001b[0;34m,\u001b[0m \u001b[0;34m-\u001b[0m\u001b[0mdf\u001b[0m\u001b[0;34m.\u001b[0m\u001b[0mtarget\u001b[0m\u001b[0;34m)\u001b[0m\u001b[0;34m\u001b[0m\u001b[0;34m\u001b[0m\u001b[0m\n",
            "\u001b[0;32m/usr/local/lib/python3.7/dist-packages/pandas/core/generic.py\u001b[0m in \u001b[0;36m__getattr__\u001b[0;34m(self, name)\u001b[0m\n\u001b[1;32m   5485\u001b[0m         ):\n\u001b[1;32m   5486\u001b[0m             \u001b[0;32mreturn\u001b[0m \u001b[0mself\u001b[0m\u001b[0;34m[\u001b[0m\u001b[0mname\u001b[0m\u001b[0;34m]\u001b[0m\u001b[0;34m\u001b[0m\u001b[0;34m\u001b[0m\u001b[0m\n\u001b[0;32m-> 5487\u001b[0;31m         \u001b[0;32mreturn\u001b[0m \u001b[0mobject\u001b[0m\u001b[0;34m.\u001b[0m\u001b[0m__getattribute__\u001b[0m\u001b[0;34m(\u001b[0m\u001b[0mself\u001b[0m\u001b[0;34m,\u001b[0m \u001b[0mname\u001b[0m\u001b[0;34m)\u001b[0m\u001b[0;34m\u001b[0m\u001b[0;34m\u001b[0m\u001b[0m\n\u001b[0m\u001b[1;32m   5488\u001b[0m \u001b[0;34m\u001b[0m\u001b[0m\n\u001b[1;32m   5489\u001b[0m     \u001b[0;32mdef\u001b[0m \u001b[0m__setattr__\u001b[0m\u001b[0;34m(\u001b[0m\u001b[0mself\u001b[0m\u001b[0;34m,\u001b[0m \u001b[0mname\u001b[0m\u001b[0;34m:\u001b[0m \u001b[0mstr\u001b[0m\u001b[0;34m,\u001b[0m \u001b[0mvalue\u001b[0m\u001b[0;34m)\u001b[0m \u001b[0;34m->\u001b[0m \u001b[0;32mNone\u001b[0m\u001b[0;34m:\u001b[0m\u001b[0;34m\u001b[0m\u001b[0;34m\u001b[0m\u001b[0m\n",
            "\u001b[0;31mAttributeError\u001b[0m: 'DataFrame' object has no attribute 'K1_rep'"
          ]
        },
        {
          "output_type": "display_data",
          "data": {
            "text/plain": [
              "<Figure size 1440x864 with 6 Axes>"
            ],
            "image/png": "[encoded data removed]"
          },
          "metadata": {
            "needs_background": "light"
          }
        }
      ]
    },
    {
      "cell_type": "code",
      "source": [],
      "metadata": {
        "id": "C0I-0t1nhHov"
      },
      "execution_count": null,
      "outputs": []
    }
  ]
}