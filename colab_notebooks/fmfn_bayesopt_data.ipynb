{
  "nbformat": 4,
  "nbformat_minor": 0,
  "metadata": {
    "colab": {
      "provenance": [],
      "authorship_tag": "ABX9TyOg95PeWYrP+vYuy+uIPgzO",
      "include_colab_link": true
    },
    "kernelspec": {
      "name": "python3",
      "display_name": "Python 3"
    },
    "language_info": {
      "name": "python"
    }
  },
  "cells": [
    {
      "cell_type": "markdown",
      "metadata": {
        "id": "view-in-github",
        "colab_type": "text"
      },
      "source": [
        "<a href=\"https://colab.research.google.com/github/hhindley/phd/blob/main/colab_notebooks/fmfn_bayesopt_data.ipynb\" target=\"_parent\"><img src=\"https://colab.research.google.com/assets/colab-badge.svg\" alt=\"Open In Colab\"/></a>"
      ]
    },
    {
      "cell_type": "code",
      "source": [
        "from google.colab import drive\n",
        "drive.mount('/content/drive', force_remount=True)"
      ],
      "metadata": {
        "id": "25x_8aE_cuSn"
      },
      "execution_count": null,
      "outputs": []
    },
    {
      "cell_type": "code",
      "execution_count": null,
      "metadata": {
        "id": "pg3O3IvJcADM"
      },
      "outputs": [],
      "source": [
        "!pip install bayesian-optimization\n",
        "# !pip install scipy==1.7.3\n",
        "from bayes_opt import BayesianOptimization\n",
        "from bayes_opt import UtilityFunction\n",
        "import numpy as np\n",
        "import matplotlib.pyplot as plt\n",
        "from matplotlib import gridspec\n",
        "import pandas as pd\n",
        "from scipy.integrate import odeint\n",
        "from scipy.integrate import ode\n",
        "from scipy.integrate import solve_ivp\n",
        "from pandas import DataFrame"
      ]
    },
    {
      "cell_type": "code",
      "source": [
        "def func(K1_tag, K2_tag, K1_rep, K2_rep, w_ab):\n",
        "  params = [L, c, kr, Vmax_init, Km_init, w_ab, w_r, θ, max, thr, K1_tag, K2_tag, K1_rep, K2_rep, gr_c, d, krep, kdam, ktag, kdeg, kin, atp]\n",
        "  sol = solve_ivp(model, [t0, tf], init, args=(params,), method='Radau', t_eval=np.arange(60))\n",
        "  return np.sum(np.square(sol.y[1][-1]-data.loc[10][1]))"
      ],
      "metadata": {
        "id": "0Nnkq6BWcU5O"
      },
      "execution_count": null,
      "outputs": []
    },
    {
      "cell_type": "code",
      "source": [
        "def func1(K1_tag, K2_tag, K1_rep, K2_rep, w_ab):\n",
        "  # params = [L, c, kr, Vmax_init, Km_init, w_ab, w_r, θ, max, thr, K1_tag, K2_tag, K1_rep, K2_rep, gr_c, d, krep, kdam, ktag, kdeg, kin, atp]\n",
        "  \n",
        "  # kdam = 0.2 - oxidative damage so increase in rate of damage to RNA - same effect as if adding antibiotics \n",
        "  sol_gor = solve_ivp(model, [t0, tf], init, args=([L, c, kr, Vmax_init, Km_init, w_ab, w_r, θ, max, thr, K1_tag, K2_tag, K1_rep, K2_rep, gr_c, d, krep, 0.2, ktag, kdeg, kin, atp],), method='Radau')#, t_eval=np.arange(60))\n",
        "  gor = np.sum(np.square(sol_gor.y[1][-1]-data.loc[10][1]))\n",
        "\n",
        "  # kdeg = 0.0001; d = 0.001 - ribonuclease so less degradation of RNA - specifically mRNA but can also be rRNA f \n",
        "  sol_mazf = solve_ivp(model, [t0, tf], init, args=([L, c, kr, Vmax_init, Km_init, w_ab, w_r, θ, max, thr, K1_tag, K2_tag, K1_rep, K2_rep, gr_c, 0.001, krep, kdam, ktag, 0.0001, kin, atp],), method='Radau')#, t_eval=np.arange(60))\n",
        "  mazf = np.sum(np.square(sol_mazf.y[1][-1]-data.loc[10][2]))\n",
        "\n",
        "  # max = 1 - deacylase in tRNA editing so faulty translation - slower production of proteins\n",
        "  sol_ybak = solve_ivp(model, [t0, tf], init, args=([L, c, kr, Vmax_init, Km_init, w_ab, w_r, θ, 1, thr, K1_tag, K2_tag, K1_rep, K2_rep, gr_c, d, krep, kdam, ktag, kdeg, kin, atp],), method='Radau')#, t_eval=np.arange(60))\n",
        "  ybak = np.sum(np.square(sol_ybak.y[1][-1]-data.loc[10][3]))\n",
        "\n",
        "  # kdam = 0.2 - important in cell envelope stress so more oxidative stress maybe so increase in rate of damage to RNA\n",
        "  sol_yobf = solve_ivp(model, [t0, tf], init, args=([L, c, kr, Vmax_init, Km_init, w_ab, w_r, θ, max, thr, K1_tag, K2_tag, K1_rep, K2_rep, gr_c, d, krep, 0.2, ktag, kdeg, kin, atp],), method='Radau')#, t_eval=np.arange(60))\n",
        "  yobf = np.sum(np.square(sol_yobf.y[1][-1]-data.loc[10][4]))\n",
        "\n",
        "  return (0.4*gor+ 0.2*mazf+0.5*ybak+ 0.8*yobf)"
      ],
      "metadata": {
        "id": "vZ3gGQK_cVvn"
      },
      "execution_count": null,
      "outputs": []
    },
    {
      "cell_type": "code",
      "source": [
        "optimizer = BayesianOptimization(func1, param_range, random_state=27, verbose=2) # verbose = 1 prints only when a maximum is observed (pink)\n",
        "optimizer.maximize(init_points=2, n_iter=15, acq='ucb', kappa=5)"
      ],
      "metadata": {
        "id": "uS-CBQVmcZ3-"
      },
      "execution_count": null,
      "outputs": []
    },
    {
      "cell_type": "code",
      "source": [
        "K1_tag = 1; K2_tag = 20; K1_rep = 1; K2_rep = 20; atp = 20;\n",
        "params = [L, c, kr, Vmax_init, Km_init, w_ab, w_r, θ, max, thr, K1_tag, K2_tag, K1_rep, K2_rep, gr_c, d, krep, kdam, ktag, kdeg, kin, atp]\n",
        "sol = solve_ivp(model, [t0, tf], init, args=(params,), method='Radau', t_eval=np.arange(60))\n"
      ],
      "metadata": {
        "id": "6jp1_dxwcb6B"
      },
      "execution_count": null,
      "outputs": []
    },
    {
      "cell_type": "code",
      "source": [
        "np.sum(np.square(sol.y[1]-syn_data.y[1]))"
      ],
      "metadata": {
        "id": "tGCw-gJNcffn"
      },
      "execution_count": null,
      "outputs": []
    }
  ]
}