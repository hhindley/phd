{
 "cells": [
  {
   "cell_type": "code",
   "execution_count": 1,
   "id": "3a682755",
   "metadata": {},
   "outputs": [],
   "source": [
    "from scipy.integrate import odeint\n",
    "import numpy as np\n",
    "import matplotlib.pyplot as plt\n",
    "from scipy.integrate import solve_ivp"
   ]
  },
  {
   "cell_type": "code",
   "execution_count": 2,
   "id": "4c85e55f",
   "metadata": {},
   "outputs": [],
   "source": [
    "def model(y, t, params):\n",
    "\n",
    "    # LHS\n",
    "    E = y[0]\n",
    "    S = y[1]\n",
    "    ES = y[2]\n",
    "    P = y[3]\n",
    "    \n",
    "    # params\n",
    "    k1 = params[0]\n",
    "    k2 = params[1]\n",
    "    k3 = params[2]\n",
    "    \n",
    "    # rates\n",
    "    v1 = k1*S*E\n",
    "    v2 = k2*ES\n",
    "    v3 = k3*ES\n",
    "\n",
    "    # RHS (dydt)\n",
    "    dydt = np.zeros(4)\n",
    "    # first reaction\n",
    "    dydt[0] = dydt[0] - v1\n",
    "    dydt[1] = dydt[1] - v1\n",
    "    dydt[2] = dydt[2] + v1\n",
    "    #second reaction\n",
    "    dydt[0] = dydt[0] + v2\n",
    "    dydt[1] = dydt[1] + v2\n",
    "    dydt[2] = dydt[2] - v2\n",
    "    #third reaction\n",
    "    dydt[0] = dydt[0] + v3\n",
    "    dydt[2] = dydt[2] - v3\n",
    "    dydt[3] = dydt[3] + v3\n",
    "    \n",
    "    return dydt"
   ]
  },
  {
   "cell_type": "code",
   "execution_count": 3,
   "id": "b1c44c88",
   "metadata": {},
   "outputs": [],
   "source": [
    "# initial conditions\n",
    "E_0 = 10\n",
    "S_0 = 10\n",
    "ES_0 = 0\n",
    "P_0 = 0\n",
    "init = [E_0, S_0, ES_0, P_0]"
   ]
  },
  {
   "cell_type": "code",
   "execution_count": 4,
   "id": "7f5c1e4f",
   "metadata": {},
   "outputs": [],
   "source": [
    "# params\n",
    "k1 = 10\n",
    "k2 = 10\n",
    "k3 = 0.5\n",
    "params = [k1, k2, k3]"
   ]
  },
  {
   "cell_type": "code",
   "execution_count": 5,
   "id": "d3a45762",
   "metadata": {},
   "outputs": [],
   "source": [
    "tspan = np.arange(0,21)"
   ]
  },
  {
   "cell_type": "code",
   "execution_count": 6,
   "id": "5a125085",
   "metadata": {},
   "outputs": [],
   "source": [
    "y = odeint(model, init, tspan, (params,))"
   ]
  },
  {
   "cell_type": "code",
   "execution_count": 7,
   "id": "221f8be2",
   "metadata": {},
   "outputs": [
    {
     "data": {
      "text/plain": [
       "<matplotlib.legend.Legend at 0x7fe0fc337fd0>"
      ]
     },
     "execution_count": 7,
     "metadata": {},
     "output_type": "execute_result"
    },
    {
     "data": {
      "image/png": "[encoded data removed]",
      "text/plain": [
       "<Figure size 432x288 with 1 Axes>"
      ]
     },
     "metadata": {
      "needs_background": "light"
     },
     "output_type": "display_data"
    }
   ],
   "source": [
    "plt.plot(tspan,y[:,0], label='E')\n",
    "plt.plot(tspan,y[:,1], label='S')\n",
    "plt.plot(tspan,y[:,2], label='ES')\n",
    "plt.plot(tspan,y[:,3], label='P')\n",
    "plt.xlabel('time')\n",
    "plt.ylabel('concentration')\n",
    "plt.legend(loc='best')"
   ]
  },
  {
   "cell_type": "code",
   "execution_count": 8,
   "id": "4fc04bdc",
   "metadata": {},
   "outputs": [],
   "source": [
    "def model1(y, t, params):\n",
    "\n",
    "    # LHS\n",
    "    S = y[0]\n",
    "    P = y[1]\n",
    "    # params\n",
    "    k1 = params[0]\n",
    "    k2 = params[1]\n",
    "    k3 = params[2]\n",
    "    etot = params[3]\n",
    "    \n",
    "    # rates\n",
    "\n",
    "    v = (k3*etot*S)/(S+(k2+k3)/k1)\n",
    "    \n",
    "    # RHS (dydt)\n",
    "    dydt = np.zeros(2)\n",
    "    dydt[0] = -v\n",
    "    dydt[1] = v\n",
    "    \n",
    "    return dydt"
   ]
  },
  {
   "cell_type": "code",
   "execution_count": 9,
   "id": "84d89faa",
   "metadata": {},
   "outputs": [],
   "source": [
    "params1 = [k1, k2, k3, (E_0+ES_0)]"
   ]
  },
  {
   "cell_type": "code",
   "execution_count": 10,
   "id": "6ae1a372",
   "metadata": {},
   "outputs": [],
   "source": [
    "init1 = [S_0, P_0]"
   ]
  },
  {
   "cell_type": "code",
   "execution_count": 11,
   "id": "05d956d3",
   "metadata": {},
   "outputs": [],
   "source": [
    "t1 = np.arange(0,21)"
   ]
  },
  {
   "cell_type": "code",
   "execution_count": 14,
   "id": "81ca6d12",
   "metadata": {},
   "outputs": [],
   "source": [
    "y1 = odeint(model1, init1, t1, (params1,))"
   ]
  },
  {
   "cell_type": "code",
   "execution_count": 15,
   "id": "b942308a",
   "metadata": {},
   "outputs": [
    {
     "data": {
      "text/plain": [
       "[<matplotlib.lines.Line2D at 0x7fe0faf18070>,\n",
       " <matplotlib.lines.Line2D at 0x7fe0faf180a0>]"
      ]
     },
     "execution_count": 15,
     "metadata": {},
     "output_type": "execute_result"
    },
    {
     "data": {
      "image/png": "[encoded data removed]",
      "text/plain": [
       "<Figure size 432x288 with 1 Axes>"
      ]
     },
     "metadata": {
      "needs_background": "light"
     },
     "output_type": "display_data"
    }
   ],
   "source": [
    "plt.plot(t1, y1)"
   ]
  },
  {
   "cell_type": "code",
   "execution_count": 17,
   "id": "a4d3e7dd",
   "metadata": {},
   "outputs": [
    {
     "data": {
      "text/plain": [
       "Text(0.5, 1.0, 'quasi steady-state')"
      ]
     },
     "execution_count": 17,
     "metadata": {},
     "output_type": "execute_result"
    },
    {
     "data": {
      "image/png": "[encoded data removed]",
      "text/plain": [
       "<Figure size 432x288 with 2 Axes>"
      ]
     },
     "metadata": {
      "needs_background": "light"
     },
     "output_type": "display_data"
    }
   ],
   "source": [
    "fig, ax = plt.subplots(2,1)\n",
    "ax[0].plot(tspan,y[:,1], label='S')\n",
    "ax[0].plot(t1,y[:,3], label='P')\n",
    "ax[1].plot(t1,y1)\n",
    "fig.legend()\n",
    "fig.supxlabel('time')\n",
    "fig.supylabel('concentration')\n",
    "ax[0].set_xticks([])\n",
    "ax[0].set_title('Normal')\n",
    "ax[1].set_title('quasi steady-state')"
   ]
  },
  {
   "cell_type": "code",
   "execution_count": null,
   "id": "d10ade23",
   "metadata": {},
   "outputs": [],
   "source": []
  }
 ],
 "metadata": {
  "interpreter": {
   "hash": "7133d4e188df27fea30ff71cf5ecd3c0df8961322f401482d427b04f022a2d36"
  },
  "kernelspec": {
   "display_name": "Python 3.9.7 64-bit ('phd': conda)",
   "name": "python3"
  },
  "language_info": {
   "codemirror_mode": {
    "name": "ipython",
    "version": 3
   },
   "file_extension": ".py",
   "mimetype": "text/x-python",
   "name": "python",
   "nbconvert_exporter": "python",
   "pygments_lexer": "ipython3",
   "version": "3.9.7"
  }
 },
 "nbformat": 4,
 "nbformat_minor": 5
}
