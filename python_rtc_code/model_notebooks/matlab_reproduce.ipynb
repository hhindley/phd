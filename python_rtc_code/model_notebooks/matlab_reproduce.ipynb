{
 "cells": [
  {
   "cell_type": "code",
   "execution_count": 1,
   "metadata": {},
   "outputs": [],
   "source": [
    "from scipy.integrate import odeint\n",
    "import numpy as np\n",
    "import matplotlib.pyplot as plt\n",
    "from scipy.integrate import ode\n",
    "from scipy.integrate import solve_ivp"
   ]
  },
  {
   "cell_type": "code",
   "execution_count": 2,
   "metadata": {},
   "outputs": [],
   "source": [
    "def model(t, y, params):\n",
    "    b, dm, kb, ku, f, thetar, k_cm, s0, gmax, cl, thetax, Kt, M, we, Km, vm, nx, Kq, Kp, vt, wr, wq, wp, nq, nr, ns = params\n",
    "\n",
    "    rmr, em, rmp, rmq, rmt, et, rmm, zmm, zmr, zmp, zmq, zmt, mt, mm, q, p, si, mq, mp, mr, r, a = y \n",
    "\n",
    "    Kgamma = gmax/Kp\n",
    "    gamma = gmax*a/(Kgamma + a)\n",
    "    ttrate = (rmq + rmr + rmp + rmt + rmm)*gamma\n",
    "    lam = ttrate/M\n",
    "    fr = nr*(r + rmr + rmp + rmt + rmm + rmq + zmr + zmp + zmt + zmm + zmq) / ( nr*(r + rmr + rmp + rmt + rmm + rmq + zmr + zmp + zmt + zmm + zmq) + nx * (p + q + et + em))\n",
    "    nucat = em*vm*si/(Km + si)\n",
    "\n",
    "    dydt = np.zeros(22)\n",
    "    dydt[0] = +kb*r*mr+b*zmr-ku*rmr-gamma/nr*rmr-f*rmr-lam*rmr\n",
    "    dydt[1] = +gamma/nx*rmm-lam*em\n",
    "    dydt[2] = +kb*r*mp+b*zmp-ku*rmp-gamma/nx*rmp-f*rmp-lam*rmp\n",
    "    dydt[3] = +kb*r*mq+b*zmq-ku*rmq-gamma/nx*rmq-f*rmq-lam*rmq\n",
    "    dydt[4] = +kb*r*mt+b*zmt-ku*rmt-gamma/nx*rmt-f*rmt-lam*rmt\n",
    "    dydt[5] = +gamma/nx*rmt-lam*et\n",
    "    dydt[6] = +kb*r*mm+b*zmm-ku*rmm-gamma/nx*rmm-f*rmm-lam*rmm\n",
    "    dydt[7] = +f*rmm-b*zmm-lam*zmm\n",
    "    dydt[8] = +f*rmr-b*zmr-lam*zmr\n",
    "    dydt[9] = +f*rmp-b*zmp-lam*zmp\n",
    "    dydt[10] = +f*rmq-b*zmq-lam*zmq\n",
    "    dydt[11] = +f*rmt-b*zmt-lam*zmt\n",
    "    dydt[12] = +(we*a/(thetax + a))+ku*rmt+gamma/nx*rmt-kb*r*mt-dm*mt-lam*mt\n",
    "    dydt[13] = +(we*a/(thetax + a))+ku*rmm+gamma/nx*rmm-kb*r*mm-dm*mm-lam*mm\n",
    "    dydt[14] = +gamma/nx*rmq-lam*q\n",
    "    dydt[15] = +gamma/nx*rmp-lam*p\n",
    "    dydt[16] = +(et*vt*s0/(Kt + s0))-nucat-lam*si\n",
    "    dydt[17] = +(wq*a/(thetax + a)/(1 + (q/Kq)**nq))+ku*rmq+gamma/nx*rmq-kb*r*mq-dm*mq-lam*mq\n",
    "    dydt[18] = +(wp*a/(thetax + a))+ku*rmp+gamma/nx*rmp-kb*r*mp-dm*mp-lam*mp\n",
    "    dydt[19] = +(wr*a/(thetar + a))+ku*rmr+gamma/nr*rmr-kb*r*mr-dm*mr-lam*mr\n",
    "    dydt[20] = +ku*rmr+ku*rmt+ku*rmm+ku*rmp+ku*rmq+gamma/nr*rmr+gamma/nr*rmr+gamma/nx*rmt+gamma/nx*rmm+gamma/nx*rmp+gamma/nx*rmq-kb*r*mr-kb*r*mt-kb*r*mm-kb*r*mp-kb*r*mq-lam*r\n",
    "    dydt[21] = +ns*nucat-ttrate-lam*a\n",
    "\n",
    "    return dydt "
   ]
  },
  {
   "cell_type": "code",
   "execution_count": 3,
   "metadata": {},
   "outputs": [],
   "source": [
    "b= 0\n",
    "dm= 0.1\n",
    "kb= 1\n",
    "ku= 1.0\n",
    "f= 1\n",
    "thetar= 426.8693338968694\n",
    "k_cm= 0.005990373118888\n",
    "s0= 1e4\n",
    "gmax= 1260.0\n",
    "cl= 0\n",
    "thetax= 4.379733394834643\n",
    "Kt= 1.0e3\n",
    "M= 1.0e8\n",
    "we= 4.139172187824451\n",
    "Km= 1.0e3\n",
    "vm= 5800.0\n",
    "nx= 300.0\n",
    "Kq= 1.522190403737490e+05\n",
    "Kp= 180.1378030928276\n",
    "vt= 726.0\n",
    "wr= 929.9678874564831\n",
    "wq= 948.9349882947897\n",
    "wp= 0.0\n",
    "nq= 4\n",
    "nr= 7549.0\n",
    "ns= 0.5\n",
    "params= [b, dm, kb, ku, f, thetar, k_cm, s0, gmax, cl, thetax, Kt, M, we, Km, vm, nx, Kq, Kp, vt, wr, wq, wp, nq, nr, ns]"
   ]
  },
  {
   "cell_type": "code",
   "execution_count": 4,
   "metadata": {},
   "outputs": [],
   "source": [
    "rmr_0= 0\n",
    "em_0= 0\n",
    "rmp_0= 0\n",
    "rmq_0= 0\n",
    "rmt_0= 0\n",
    "et_0= 0\n",
    "rmm_0= 0\n",
    "zmm_0= 0\n",
    "zmr_0= 0\n",
    "zmp_0= 0\n",
    "zmq_0= 0\n",
    "zmt_0= 0\n",
    "mt_0= 0\n",
    "mm_0= 0\n",
    "q_0= 0\n",
    "p_0= 0\n",
    "si_0= 0\n",
    "mq_0= 0\n",
    "mp_0= 0\n",
    "mr_0= 0\n",
    "r_0= 10.0\n",
    "a_0= 1000.0\n",
    "\n",
    "init= [rmr_0, em_0, rmp_0, rmq_0, rmt_0, et_0, rmm_0, zmm_0, zmr_0, zmp_0, zmq_0, zmt_0, mt_0, mm_0, q_0, p_0, si_0, mq_0, mp_0, mr_0, r_0, a_0]\n"
   ]
  },
  {
   "cell_type": "code",
   "execution_count": 5,
   "metadata": {},
   "outputs": [],
   "source": [
    "t0 = 0\n",
    "tf = 1e9\n",
    "# times = np.linspace(t0, tf, 100)\n",
    "sol = solve_ivp(model, [t0, tf], init, args=(params,), method='Radau', rtol=1e-10, atol=1e-13)"
   ]
  },
  {
   "cell_type": "code",
   "execution_count": 6,
   "metadata": {},
   "outputs": [],
   "source": [
    "t = sol.t\n",
    "rmr = sol.y[0]\n",
    "em = sol.y[1]\n",
    "rmp = sol.y[2]\n",
    "rmq = sol.y[3]\n",
    "rmt = sol.y[4]\n",
    "et = sol.y[5]\n",
    "rmm = sol.y[6]\n",
    "zmm = sol.y[7]\n",
    "zmr = sol.y[8]\n",
    "zmp = sol.y[9]\n",
    "zmq = sol.y[10]\n",
    "zmt = sol.y[11]\n",
    "mt = sol.y[7]\n",
    "mm = sol.y[8]\n",
    "q = sol.y[9]\n",
    "p = sol.y[10]\n",
    "si = sol.y[11]\n",
    "mq = sol.y[12]\n",
    "mp = sol.y[13]\n",
    "mr = sol.y[14]\n",
    "r = sol.y[15]\n",
    "a  = sol.y[16]\n"
   ]
  },
  {
   "cell_type": "code",
   "execution_count": 7,
   "metadata": {},
   "outputs": [
    {
     "data": {
      "text/plain": [
       "[<matplotlib.lines.Line2D at 0x7fb3510bc460>]"
      ]
     },
     "execution_count": 7,
     "metadata": {},
     "output_type": "execute_result"
    },
    {
     "data": {
      "image/png": "[encoded data removed]",
      "text/plain": [
       "<Figure size 432x288 with 1 Axes>"
      ]
     },
     "metadata": {
      "needs_background": "light"
     },
     "output_type": "display_data"
    }
   ],
   "source": [
    "plt.plot(sol.t, sol.y[8])"
   ]
  },
  {
   "cell_type": "code",
   "execution_count": 8,
   "metadata": {},
   "outputs": [
    {
     "data": {
      "text/plain": [
       "[<matplotlib.lines.Line2D at 0x7fb350fbebe0>]"
      ]
     },
     "execution_count": 8,
     "metadata": {},
     "output_type": "execute_result"
    },
    {
     "data": {
      "image/png": "[encoded data removed]",
      "text/plain": [
       "<Figure size 432x288 with 1 Axes>"
      ]
     },
     "metadata": {
      "needs_background": "light"
     },
     "output_type": "display_data"
    }
   ],
   "source": [
    "plt.plot(sol.t, sol.y[13])"
   ]
  },
  {
   "cell_type": "code",
   "execution_count": 10,
   "metadata": {},
   "outputs": [
    {
     "data": {
      "text/plain": [
       "[<matplotlib.lines.Line2D at 0x7fb3503a2400>]"
      ]
     },
     "execution_count": 10,
     "metadata": {},
     "output_type": "execute_result"
    },
    {
     "data": {
      "image/png": "[encoded data removed]",
      "text/plain": [
       "<Figure size 432x288 with 1 Axes>"
      ]
     },
     "metadata": {
      "needs_background": "light"
     },
     "output_type": "display_data"
    }
   ],
   "source": [
    "nutrient = np.arange(0, 1e4)\n",
    "growth_rate = []\n",
    "for s0 in nutrient:\n",
    "    loop = solve_ivp(model, [t0, tf], init, args=(params,), method='Radau')\n",
    "    Kgamma = gmax/Kp\n",
    "    gamma = gmax*a/(Kgamma + a)\n",
    "    ttrate = (rmq + rmr + rmp + rmt + rmm)*gamma\n",
    "    lam = ttrate/M\n",
    "    gamma = (gmax*loop.y[5][-1])/(Kgamma+loop.y[5][-1])\n",
    "    ttrate = (loop.y[10][-1] + loop.y[11][-1] + loop.y[12][-1] + loop.y[13][-1] + loop.y[16][-1])*gamma\n",
    "    lam = ttrate/M\n",
    "    growth_rate.append(lam)\n",
    "\n",
    "plt.plot(nutrient, growth_rate)"
   ]
  },
  {
   "cell_type": "code",
   "execution_count": 15,
   "metadata": {},
   "outputs": [
    {
     "data": {
      "text/plain": [
       "[<matplotlib.lines.Line2D at 0x7fb3501398e0>]"
      ]
     },
     "execution_count": 15,
     "metadata": {},
     "output_type": "execute_result"
    },
    {
     "data": {
      "image/png": "[encoded data removed]",
      "text/plain": [
       "<Figure size 432x288 with 1 Axes>"
      ]
     },
     "metadata": {
      "needs_background": "light"
     },
     "output_type": "display_data"
    }
   ],
   "source": [
    "plt.plot(sol.t, sol.y[4])"
   ]
  },
  {
   "cell_type": "code",
   "execution_count": null,
   "metadata": {},
   "outputs": [],
   "source": []
  }
 ],
 "metadata": {
  "interpreter": {
   "hash": "7133d4e188df27fea30ff71cf5ecd3c0df8961322f401482d427b04f022a2d36"
  },
  "kernelspec": {
   "display_name": "Python 3.9.7 64-bit ('phd': conda)",
   "language": "python",
   "name": "python3"
  },
  "language_info": {
   "codemirror_mode": {
    "name": "ipython",
    "version": 3
   },
   "file_extension": ".py",
   "mimetype": "text/x-python",
   "name": "python",
   "nbconvert_exporter": "python",
   "pygments_lexer": "ipython3",
   "version": "3.9.7"
  },
  "orig_nbformat": 4
 },
 "nbformat": 4,
 "nbformat_minor": 2
}
