{
 "cells": [
  {
   "cell_type": "code",
   "execution_count": null,
   "id": "c2c310aa",
   "metadata": {},
   "outputs": [
    {
     "ename": "",
     "evalue": "",
     "output_type": "error",
     "traceback": [
      "\u001b[1;31mRunning cells with 'Python 3.9.7 ('phd': conda)' requires ipykernel package.\n",
      "Run the following command to install 'ipykernel' into the Python environment. \n",
      "Command: 'conda install -n phd ipykernel --update-deps --force-reinstall'"
     ]
    }
   ],
   "source": [
    "from scipy.integrate import odeint\n",
    "import numpy as np\n",
    "import matplotlib.pyplot as plt\n",
    "from scipy.integrate import ode\n",
    "from scipy.integrate import solve_ivp"
   ]
  },
  {
   "cell_type": "code",
   "execution_count": 108,
   "id": "6d348d10",
   "metadata": {},
   "outputs": [],
   "source": [
    "def model(t, y, params): # not sure about having to include rates here\n",
    "\n",
    "    # LHS\n",
    "    r, et, em, q, si, a, mr, mt, mm, mq, cr, ct, cm, cq = y\n",
    "    # r = y[0] # free ribosomes\n",
    "    # et = y[1] # transporter enzyme \n",
    "    # em = y[2] # metabolism enzyme \n",
    "    # q = y[3] # house-keeping proteins\n",
    "    # si = y[4] # internal nutrient \n",
    "    # a = y[5] # energy\n",
    "    # mr = y[6] # free mRNA for ribosome\n",
    "    # mt = y[7] # free mRNA for transporter enzyme\n",
    "    # mm = y[8] # free mRNA for metabolism enzyme\n",
    "    # mq = y[9] # free mRNA for house-keeping proteins\n",
    "    # cr = y[10] # ribosome bound mRNA for free ribosome\n",
    "    # ct = y[11] # ribosome bound mRNA for transporter enzyme\n",
    "    # cm = y[12] # ribosome bound mRNA for metabolism enzyme\n",
    "    # cq = y[13] # ribosome bound mRNA for house-keeping proteins\n",
    "\n",
    "    s, dm, ns, nr, nx, gmax, Kp, Kt, Km, wr, we, thetax, thetar, Kq, hq, kb, ku, M, kcm, dm, kb, ku, wx, vx, nq = params\n",
    "    # params\n",
    "    # s = params[0] # external nutrient \n",
    "    # dm = params[1] # mRNA-degradation rate \n",
    "    # ns = params[2] # nutrient quality \n",
    "    # nr = params[3] # ribosome length \n",
    "    # nx = params[4] # length of nonribosomal proteins\n",
    "    # gmax = params[5] # max. translational elongation rate \n",
    "    # Kp = params[6] # protein threshold - where did this come from? \n",
    "    # # vt = params[7] # max. nutrient import rate - should maybe be in rates?\n",
    "    # Kt = params[7] # nutrient import threshold for transporter enzyme\n",
    "    # # vm = params[9] # max. enzymatic rate - should maybe be in rates? \n",
    "    # Km = params[8] # enzymatic threshold for metabolic enzyme \n",
    "    # wr = params[9] # max. ribosome transcription rate\n",
    "    # we = params[10] # max. enzyme transcription rate2\n",
    "    # wq = params[11] # max. q-transcription rate \n",
    "    # thetar = params[12] # ribosome transcription threshold \n",
    "    # thetax = params[13] # non-ribosomal transcription threshold \n",
    "    # Kq = params[14] # q-autoinhibition threshold \n",
    "    # hq = params[15] # q-autoinhbition Hill coeff.\n",
    "    # kb = params[16] # mRNA-ribosome binding rate \n",
    "    # ku = params[17] # mRNA-ribosome unbinding rate \n",
    "    # M = params[18] # total cell mass \n",
    "    # kcm = params[19] # chloramphenicol binding rate \n",
    "\n",
    "    \n",
    "    # # rates\n",
    "    # # lam = rates[0] # dilution\n",
    "    # dm = rates[1] # degradation\n",
    "    # kb = rates[2] # ribosome binding \n",
    "    # ku = rates[3] # ribosome unbinding \n",
    "    # wx = rates[4] # transcription\n",
    "    # vx = rates[5] # translation\n",
    "\n",
    "\n",
    "\n",
    "    # equations\n",
    "    Kgamma = gmax/Kp # threshold for half maximal elongation - not sure about value or equation for Kp\n",
    "    gamma = (gmax*a)/(Kgamma+a) # rate of translational elongation \n",
    "    vimp = (et*vt*s0)/(Kt*s0) # transporter enzyme kinetics \n",
    "    nucat = (em*vm*si)/(Km+si) # metabolic enzyme kinetics\n",
    "    ttrate = (cr + cq + ct + cm)*gamma\n",
    "    lam = ttrate/M\n",
    "\n",
    "    # RHS (dydt)\n",
    "    dydt = np.zeros(14)\n",
    "    # # first reaction - dilution\n",
    "    # dydt[0] = dydt[0] - (r*lam)\n",
    "    # dydt[1] = dydt[1] - (et*lam)\n",
    "    # dydt[2] = dydt[2] - (em*lam)\n",
    "    # dydt[3] = dydt[3] - (q*lam)\n",
    "    # dydt[4] = dydt[4] - (si*lam)\n",
    "    # dydt[5] = dydt[5] - (a*lam)\n",
    "    \n",
    "    # # second reaction - transcription\n",
    "    # dydt[4] = dydt[4] + (s*(vimp)) \n",
    "    # dydt[6] = dydt[6] + ((wr*a)/thetax+a)\n",
    "    # dydt[7] = dydt[7] + ((we*a)/thetax+a)\n",
    "    # dydt[8] = dydt[8] + ((we*a)/thetax+a)\n",
    "    # dydt[9] = dydt[9] + ((wq*a)/thetax+a)*(1/1+((q/Kq)**hq)) \n",
    "    \n",
    "    # # third reaction - dilution/degradation\n",
    "    # dydt[6] = dydt[6] - (mr*(lam+dm))\n",
    "    # dydt[7] = dydt[7] - (mt*(lam+dm))\n",
    "    # dydt[8] = dydt[8] - (mm*(lam+dm))\n",
    "    # dydt[9] = dydt[9] - (mq*(lam+dm))\n",
    "    # dydt[4] = dydt[4] - (si*nucat) \n",
    "        \n",
    "    # # fourth reaction - ribosome binding \n",
    "    # dydt[0] = dydt[0] - (r*mr*kb) - (r*mt*kb) - (r*mm*kb) - (r*mq*kb)\n",
    "    # dydt[6] = dydt[6] - (r*mr*kb)\n",
    "    # dydt[7] = dydt[7] - (r*mt*kb)\n",
    "    # dydt[8] = dydt[8] - (r*mm*kb)\n",
    "    # dydt[9] = dydt[9] - (r*mq*kb)\n",
    "    # dydt[10] = dydt[10] + (r*mr*kb)\n",
    "    # dydt[11] = dydt[11] + (r*mt*kb)\n",
    "    # dydt[12] = dydt[12] + (r*mm*kb)\n",
    "    # dydt[13] = dydt[13] + (r*mq*kb)\n",
    "    \n",
    "    # # fifth reaction - ribosome unbinding \n",
    "    # dydt[0] = dydt[0] + (cr*ku) + (ct*ku) + (cm*ku) + (cq*ku)\n",
    "    # dydt[6] = dydt[6] + (cr*ku)\n",
    "    # dydt[7] = dydt[7] + (ct*ku)\n",
    "    # dydt[8] = dydt[8] + (cm*ku)\n",
    "    # dydt[9] = dydt[9] + (cq*ku)\n",
    "    # dydt[10] = dydt[10] - (cr*ku)\n",
    "    # dydt[11] = dydt[11] - (ct*ku)\n",
    "    # dydt[12] = dydt[12] - (cm*ku)\n",
    "    # dydt[13] = dydt[13] - (cq*ku)\n",
    "    \n",
    "    # # sixth reaction - dilution\n",
    "    # dydt[10] = dydt[10] - (cr*lam)\n",
    "    # dydt[11] = dydt[11] - (ct*lam)\n",
    "    # dydt[12] = dydt[12] - (cm*lam)\n",
    "    # dydt[13] = dydt[13] - (cq*lam)\n",
    "    \n",
    "    # # seventh reaction - translation \n",
    "    # dydt[0] = dydt[0] + (cr*(gamma/nr)) + (ct*(gamma/nx)) + (cm*(gamma/nx)) + (cq*(gamma/nx)) + (cr*(gamma/nr))\n",
    "    # dydt[6] = dydt[6] + (cr*(gamma/nr))\n",
    "    # dydt[7] = dydt[7] + (ct*(gamma/nx))\n",
    "    # dydt[8] = dydt[8] + (cm*(gamma/nx))\n",
    "    # dydt[9] = dydt[9] + (cq*(gamma/nx))\n",
    "    # dydt[1] = dydt[1] + (ct*(gamma/nx))\n",
    "    # dydt[2] = dydt[2] + (cm*(gamma/nx))\n",
    "    # dydt[3] = dydt[3] + (cq*(gamma/nx))\n",
    "    # dydt[10] = dydt[10] - (cr*(gamma/nr))\n",
    "    # dydt[11] = dydt[11] - (ct*(gamma/nx))\n",
    "    # dydt[12] = dydt[12] - (cm*(gamma/nx))\n",
    "    # dydt[13] = dydt[13] - (cq*(gamma/nx))\n",
    "    # dydt[5] = dydt[5] - (cr*(gamma/nr)) - (ct*(gamma/nx)) - (cm*(gamma/nx)) - (cq*(gamma/nx))\n",
    "    r, et, em, q, si, a, mr, mt, mm, mq, cr, ct, cm, cq = y\n",
    "    # # final odes\n",
    "    dydt[0] = - (r*lam) - (r*mr*kb) - (r*mt*kb) - (r*mm*kb) - (r*mq*kb) + (cr*ku) + (ct*ku) + (cm*ku) + (cq*ku) + (cr*(gamma/nr)) + (ct*(gamma/nx)) + (cm*(gamma/nx)) + (cq*(gamma/nx)) + (cr*(gamma/nr))\n",
    "    dydt[1] = - (et*lam) + (ct*(gamma/nx))\n",
    "    dydt[2] = - (em*lam) + (cm*(gamma/nx))\n",
    "    dydt[3] = - (q*lam) + (cq*(gamma/nx))\n",
    "    dydt[4] = - (si*lam) + vimp - nucat \n",
    "    dydt[5] = + (ns*nucat) - ttrate - (lam*a) # - (a*lam) - (cr*(gamma/nr)) - (ct*(gamma/nx)) - (cm*(gamma/nx)) - (cq*(gamma/nx))\n",
    "    dydt[6] = + ((wr*a)/thetar+a) - (mr*(lam+dm)) - (r*mr*kb) + (cr*ku) + (cr*(gamma/nr))\n",
    "    dydt[7] = + ((we*a)/thetax+a) - (mt*(lam+dm)) - (r*mt*kb) + (ct*ku) + (ct*(gamma/nx))\n",
    "    dydt[8] = + ((we*a)/thetax+a) - (mm*(lam+dm)) - (r*mm*kb) + (cm*ku) + (cm*(gamma/nx))\n",
    "    dydt[9] = + ((wq*a)/thetax+a)/(1+((q/Kq)**nq)) - (mq*(lam+dm)) - (r*mq*kb) + (cq*ku) + (cq*(gamma/nx))\n",
    "    dydt[10] = + (r*mr*kb) - (cr*ku) - (cr*lam) - (cr*(gamma/nr)) # - f*cr and + b*zmr added in\n",
    "    dydt[11] = + (r*mt*kb) - (ct*ku) - (ct*lam) - (ct*(gamma/nx))\n",
    "    dydt[12] = + (r*mm*kb) - (cm*ku) - (cm*lam) - (cm*(gamma/nx))\n",
    "    dydt[13] = + (r*mq*kb) - (cq*ku) - (cq*lam) - (cq*(gamma/nx))\n",
    "\n",
    "    return dydt"
   ]
  },
  {
   "cell_type": "code",
   "execution_count": 105,
   "id": "eb7b87d6",
   "metadata": {},
   "outputs": [],
   "source": [
    "# rates\n",
    "lam = 2 \n",
    "vimp = 2 \n",
    "dm = 1\n",
    "kb = 1\n",
    "ku = 1\n",
    "wx = 1\n",
    "vx = 10\n",
    "\n",
    "rates = [lam, vimp, dm, kb, ku, wx, vx]"
   ]
  },
  {
   "cell_type": "code",
   "execution_count": 106,
   "id": "5a4817af",
   "metadata": {},
   "outputs": [],
   "source": [
    "# params\n",
    "s0 = 1e4\n",
    "dm = 0.1\n",
    "ns = 0.5\n",
    "nr = 7459 \n",
    "nx = 300\n",
    "gmax = 1260\n",
    "Kgamma = 7\n",
    "vt = 726 \n",
    "Kt = 1000\n",
    "vm = 5800\n",
    "Km = 1000 \n",
    "wr = 930\n",
    "we = 4.14\n",
    "wq = 948.93\n",
    "thetar = 426.87\n",
    "thetax = 4.38\n",
    "Kq = 152219\n",
    "hq = 4\n",
    "kb = 1\n",
    "ku = 1\n",
    "M = 1e8\n",
    "kcm = 0.00599\n",
    "Kp =1\n",
    "nq = 4\n",
    "params = [s, dm, ns, nr, nx, gmax, Kp, Kt, Km, wr, we, thetar, thetax, Kq, hq, kb, ku, M, kcm, dm, kb, ku, wx, vx, nq]"
   ]
  },
  {
   "cell_type": "code",
   "execution_count": 88,
   "metadata": {},
   "outputs": [
    {
     "name": "stdout",
     "output_type": "stream",
     "text": [
      "[10000.0, 0.1, 0.5, 7459, 300, 1260, 1, 1000, 1000, 930, 4.14, 1, 152219, 4, 1, 1, 100000000.0, 0.00599, 0.1, 1, 1, 1, 10]\n"
     ]
    }
   ],
   "source": [
    "print((params))"
   ]
  },
  {
   "cell_type": "code",
   "execution_count": 70,
   "id": "c4d32017",
   "metadata": {},
   "outputs": [],
   "source": [
    "# initial values\n",
    "r_0 = 0\n",
    "et_0 = 0\n",
    "em_0 = 0\n",
    "q_0 = 0\n",
    "si_0 = 0\n",
    "a_0 = 0\n",
    "mr_0 = 0\n",
    "mt_0 = 0\n",
    "mm_0 = 0\n",
    "mq_0 = 0\n",
    "cr_0 = 0\n",
    "ct_0 = 0\n",
    "cm_0 = 0\n",
    "cq_0 = 0\n",
    "init = [r_0, et_0, em_0, q_0, si_0, a_0, mr_0, mt_0, mm_0, mq_0, cr_0, ct_0, cm_0, cq_0]"
   ]
  },
  {
   "cell_type": "code",
   "execution_count": 66,
   "id": "3101b995",
   "metadata": {},
   "outputs": [
    {
     "name": "stdout",
     "output_type": "stream",
     "text": [
      "152219\n"
     ]
    }
   ],
   "source": [
    "tspan = np.arange(0, 1000)\n",
    "print(Kq)"
   ]
  },
  {
   "cell_type": "code",
   "execution_count": 109,
   "id": "2375790c",
   "metadata": {},
   "outputs": [
    {
     "data": {
      "text/plain": [
       "[<matplotlib.lines.Line2D at 0x7f98b5f158b0>,\n",
       " <matplotlib.lines.Line2D at 0x7f98b5f158e0>,\n",
       " <matplotlib.lines.Line2D at 0x7f98b5f15a00>,\n",
       " <matplotlib.lines.Line2D at 0x7f98b5f15b20>,\n",
       " <matplotlib.lines.Line2D at 0x7f98b5f15c40>,\n",
       " <matplotlib.lines.Line2D at 0x7f98b5f15d60>,\n",
       " <matplotlib.lines.Line2D at 0x7f98b5f15e80>,\n",
       " <matplotlib.lines.Line2D at 0x7f98b5f15fa0>,\n",
       " <matplotlib.lines.Line2D at 0x7f98b5f22100>,\n",
       " <matplotlib.lines.Line2D at 0x7f98b5f22220>,\n",
       " <matplotlib.lines.Line2D at 0x7f98b5f6a700>,\n",
       " <matplotlib.lines.Line2D at 0x7f98b5f22340>,\n",
       " <matplotlib.lines.Line2D at 0x7f98b5f22550>,\n",
       " <matplotlib.lines.Line2D at 0x7f98b5f22670>]"
      ]
     },
     "execution_count": 109,
     "metadata": {},
     "output_type": "execute_result"
    },
    {
     "data": {
      "image/png": "[encoded data removed]",
      "text/plain": [
       "<Figure size 432x288 with 1 Axes>"
      ]
     },
     "metadata": {
      "needs_background": "light"
     },
     "output_type": "display_data"
    }
   ],
   "source": [
    "sol = solve_ivp(model, [0, 1000], init, args=(params,), method='Radau')\n",
    "\n",
    "plt.plot(sol.t, sol.y.T)"
   ]
  },
  {
   "cell_type": "code",
   "execution_count": null,
   "metadata": {},
   "outputs": [],
   "source": []
  },
  {
   "cell_type": "code",
   "execution_count": 56,
   "metadata": {},
   "outputs": [
    {
     "name": "stdout",
     "output_type": "stream",
     "text": [
      "8\n",
      "14\n"
     ]
    }
   ],
   "source": [
    "print(len(sol.t))\n",
    "print(len(sol.y))"
   ]
  },
  {
   "cell_type": "code",
   "execution_count": 35,
   "metadata": {},
   "outputs": [],
   "source": [
    "nutrient = np.arange(1, 1001)\n"
   ]
  },
  {
   "cell_type": "code",
   "execution_count": null,
   "id": "bd30f97b",
   "metadata": {},
   "outputs": [],
   "source": [
    "for s0 in nutrient:\n",
    "    solve_ivp(lambda t, y: model(t, y, params, rates)), tspan, init, method='Radau'\n",
    "    gamma = (gmax*a)/(Kgamma+a) # rate of translational elongation \n",
    "    ttrate = (cr) + cq + ct + cm)*gamma\n",
    "    lam = ttrate/M"
   ]
  },
  {
   "cell_type": "code",
   "execution_count": null,
   "metadata": {},
   "outputs": [],
   "source": []
  }
 ],
 "metadata": {
  "interpreter": {
   "hash": "7133d4e188df27fea30ff71cf5ecd3c0df8961322f401482d427b04f022a2d36"
  },
  "kernelspec": {
   "display_name": "Python 3.9.7 64-bit ('phd': conda)",
   "name": "python3"
  },
  "language_info": {
   "codemirror_mode": {
    "name": "ipython",
    "version": 3
   },
   "file_extension": ".py",
   "mimetype": "text/x-python",
   "name": "python",
   "nbconvert_exporter": "python",
   "pygments_lexer": "ipython3",
   "version": "3.9.7"
  }
 },
 "nbformat": 4,
 "nbformat_minor": 5
}
